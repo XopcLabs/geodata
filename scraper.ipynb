{
 "cells": [
  {
   "cell_type": "code",
   "execution_count": 4,
   "metadata": {},
   "outputs": [],
   "source": [
    "import requests\n",
    "from fake_useragent import UserAgent\n",
    "from bs4 import BeautifulSoup"
   ]
  },
  {
   "cell_type": "code",
   "execution_count": 24,
   "metadata": {},
   "outputs": [],
   "source": [
    "base_url = 'https://www.avito.ru' \n",
    "url = 'https://www.avito.ru/sankt-peterburg/bytovaya_tehnika/dlya_kuhni/mikrovolnovye_pechi-ASgBAgICAkRglk_MB5pP?cd=1&pmax=4000&s=104&p={}'\n",
    "ua = UserAgent()\n",
    "headers = {'User-Agent': str(ua.chrome)}"
   ]
  },
  {
   "cell_type": "code",
   "execution_count": 17,
   "metadata": {},
   "outputs": [
    {
     "data": {
      "text/plain": [
       "200"
      ]
     },
     "execution_count": 17,
     "metadata": {},
     "output_type": "execute_result"
    }
   ],
   "source": [
    "r = requests.get(url.format(1), headers=headers)\n",
    "r.status_code"
   ]
  },
  {
   "cell_type": "code",
   "execution_count": 20,
   "metadata": {},
   "outputs": [
    {
     "name": "stdout",
     "output_type": "stream",
     "text": [
      "1 : 56\n",
      "2 : 56\n",
      "3 : 56\n",
      "4 : 56\n",
      "5 : 56\n",
      "6 : 56\n",
      "7 : 56\n",
      "8 : 56\n",
      "9 : 56\n"
     ]
    }
   ],
   "source": [
    "for page in range(1, 10):\n",
    "    r = requests.get(url.format(page), headers=headers)\n",
    "    soup = BeautifulSoup(r.text, features='lxml')\n",
    "    a_tags = soup.find_all('a', {'class':'snippet-link'})\n",
    "    print(page, ':', len(a_tags))\n"
   ]
  },
  {
   "cell_type": "code",
   "execution_count": 23,
   "metadata": {},
   "outputs": [
    {
     "data": {
      "text/plain": [
       "'/sankt-peterburg/bytovaya_tehnika/dostavka_b.u._svch_pechey_s_garantiey_1405795017'"
      ]
     },
     "execution_count": 23,
     "metadata": {},
     "output_type": "execute_result"
    }
   ],
   "source": [
    "a_tags[0].get('href')"
   ]
  },
  {
   "cell_type": "code",
   "execution_count": 21,
   "metadata": {},
   "outputs": [],
   "source": [
    "def get_last_page(soup):\n",
    "    next_button = soup.find('span', {'data-marker':'pagination-button/next'})\n",
    "    last_page = next_button.find_previous_sibling('span')\n",
    "    return int(last_page.text)"
   ]
  },
  {
   "cell_type": "code",
   "execution_count": 22,
   "metadata": {},
   "outputs": [
    {
     "data": {
      "text/plain": [
       "24"
      ]
     },
     "execution_count": 22,
     "metadata": {},
     "output_type": "execute_result"
    }
   ],
   "source": [
    "get_last_page(soup)"
   ]
  },
  {
   "cell_type": "code",
   "execution_count": 32,
   "metadata": {},
   "outputs": [],
   "source": [
    "def get_links(page):\n",
    "    r = requests.get(url.format(page), headers=headers)\n",
    "    if not r.ok:\n",
    "        return []\n",
    "    soup = BeautifulSoup(r.text, features='lxml')\n",
    "    links = soup.find_all('a', {'class':'snippet-link'})\n",
    "    if links:\n",
    "        links = [base_url + link.get('href') for link in links]\n",
    "    return links"
   ]
  },
  {
   "cell_type": "code",
   "execution_count": 31,
   "metadata": {},
   "outputs": [
    {
     "data": {
      "text/plain": [
       "56"
      ]
     },
     "execution_count": 31,
     "metadata": {},
     "output_type": "execute_result"
    }
   ],
   "source": [
    "len(get_links(20))"
   ]
  }
 ],
 "metadata": {
  "kernelspec": {
   "display_name": "Python 3",
   "language": "python",
   "name": "python3"
  },
  "language_info": {
   "codemirror_mode": {
    "name": "ipython",
    "version": 3
   },
   "file_extension": ".py",
   "mimetype": "text/x-python",
   "name": "python",
   "nbconvert_exporter": "python",
   "pygments_lexer": "ipython3",
   "version": "3.7.6"
  }
 },
 "nbformat": 4,
 "nbformat_minor": 4
}
