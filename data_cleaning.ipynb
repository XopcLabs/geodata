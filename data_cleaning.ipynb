{
 "cells": [
  {
   "cell_type": "code",
   "execution_count": 1,
   "metadata": {},
   "outputs": [],
   "source": [
    "import pandas as pd\n",
    "import numpy as np"
   ]
  },
  {
   "cell_type": "code",
   "execution_count": 2,
   "metadata": {},
   "outputs": [
    {
     "data": {
      "text/html": [
       "<div>\n",
       "<style scoped>\n",
       "    .dataframe tbody tr th:only-of-type {\n",
       "        vertical-align: middle;\n",
       "    }\n",
       "\n",
       "    .dataframe tbody tr th {\n",
       "        vertical-align: top;\n",
       "    }\n",
       "\n",
       "    .dataframe thead th {\n",
       "        text-align: right;\n",
       "    }\n",
       "</style>\n",
       "<table border=\"1\" class=\"dataframe\">\n",
       "  <thead>\n",
       "    <tr style=\"text-align: right;\">\n",
       "      <th></th>\n",
       "      <th>price</th>\n",
       "      <th>title</th>\n",
       "      <th>added_time</th>\n",
       "      <th>metro</th>\n",
       "      <th>seller_name</th>\n",
       "      <th>seller_rating</th>\n",
       "      <th>address</th>\n",
       "      <th>description</th>\n",
       "      <th>dist_to_metro</th>\n",
       "      <th>seller_review</th>\n",
       "      <th>seller_status</th>\n",
       "      <th>views</th>\n",
       "    </tr>\n",
       "  </thead>\n",
       "  <tbody>\n",
       "    <tr>\n",
       "      <th>0</th>\n",
       "      <td>6000</td>\n",
       "      <td>Холодильник</td>\n",
       "      <td>вчера в 10:09</td>\n",
       "      <td>Парк Победы</td>\n",
       "      <td>макс</td>\n",
       "      <td>5.0</td>\n",
       "      <td>Санкт-Петербург, Кузнецовская ул., 21</td>\n",
       "      <td>✓ Гарантируем лучшие условия в городе на покуп...</td>\n",
       "      <td>500 м</td>\n",
       "      <td>8.0</td>\n",
       "      <td>Частное лицо</td>\n",
       "      <td>353.0</td>\n",
       "    </tr>\n",
       "    <tr>\n",
       "      <th>1</th>\n",
       "      <td>6000</td>\n",
       "      <td>Холодильник LG no frost</td>\n",
       "      <td>сегодня в 01:35</td>\n",
       "      <td>NaN</td>\n",
       "      <td>Александр</td>\n",
       "      <td>5.0</td>\n",
       "      <td>Санкт-Петербург, Пушкинский р-н, пос. Шушары, ...</td>\n",
       "      <td>Холодильник двухкамерный LG GC-309 в хорошем р...</td>\n",
       "      <td>NaN</td>\n",
       "      <td>3.0</td>\n",
       "      <td>Частное лицо</td>\n",
       "      <td>48.0</td>\n",
       "    </tr>\n",
       "    <tr>\n",
       "      <th>2</th>\n",
       "      <td>2800</td>\n",
       "      <td>Переносной холодильник новый</td>\n",
       "      <td>сегодня в 00:10</td>\n",
       "      <td>Приморская</td>\n",
       "      <td>Роман</td>\n",
       "      <td>5.0</td>\n",
       "      <td>Санкт-Петербург, Морская наб., 35к2</td>\n",
       "      <td>Переносной холодильник. Абсолютно новый, в кор...</td>\n",
       "      <td>1,4 км</td>\n",
       "      <td>6.0</td>\n",
       "      <td>Частное лицо</td>\n",
       "      <td>622.0</td>\n",
       "    </tr>\n",
       "    <tr>\n",
       "      <th>3</th>\n",
       "      <td>1500</td>\n",
       "      <td>Холодильник Норд</td>\n",
       "      <td>вчера в 23:19</td>\n",
       "      <td>Проспект Ветеранов</td>\n",
       "      <td>Олег</td>\n",
       "      <td>NaN</td>\n",
       "      <td>Санкт-Петербург, садовые участки</td>\n",
       "      <td>Продам полностью рабочий холодильник Норд дх 4...</td>\n",
       "      <td>2,5 км</td>\n",
       "      <td>0.0</td>\n",
       "      <td>Частное лицо</td>\n",
       "      <td>78.0</td>\n",
       "    </tr>\n",
       "    <tr>\n",
       "      <th>4</th>\n",
       "      <td>5000</td>\n",
       "      <td>Холодильник zanussi</td>\n",
       "      <td>вчера в 23:14</td>\n",
       "      <td>Елизаровская</td>\n",
       "      <td>Александр</td>\n",
       "      <td>5.0</td>\n",
       "      <td>Санкт-Петербург, ул. Ольги Берггольц, 18</td>\n",
       "      <td>Состояние 4, полностью рабочийТорг</td>\n",
       "      <td>300 м</td>\n",
       "      <td>1.0</td>\n",
       "      <td>Частное лицо</td>\n",
       "      <td>108.0</td>\n",
       "    </tr>\n",
       "    <tr>\n",
       "      <th>...</th>\n",
       "      <td>...</td>\n",
       "      <td>...</td>\n",
       "      <td>...</td>\n",
       "      <td>...</td>\n",
       "      <td>...</td>\n",
       "      <td>...</td>\n",
       "      <td>...</td>\n",
       "      <td>...</td>\n",
       "      <td>...</td>\n",
       "      <td>...</td>\n",
       "      <td>...</td>\n",
       "      <td>...</td>\n",
       "    </tr>\n",
       "    <tr>\n",
       "      <th>1335</th>\n",
       "      <td>800</td>\n",
       "      <td>Корпус (ящика+панель(щиток) Atlant атлант</td>\n",
       "      <td>1 марта в 21:52</td>\n",
       "      <td>NaN</td>\n",
       "      <td>Павел</td>\n",
       "      <td>NaN</td>\n",
       "      <td>Ленинградская область, Ломоносовский р-н, Вилл...</td>\n",
       "      <td>в хорошем состоянии. использовалось не долго К...</td>\n",
       "      <td>NaN</td>\n",
       "      <td>0.0</td>\n",
       "      <td>Частное лицо</td>\n",
       "      <td>65.0</td>\n",
       "    </tr>\n",
       "    <tr>\n",
       "      <th>1336</th>\n",
       "      <td>6500</td>\n",
       "      <td>Холодильник Атлант хм-6001</td>\n",
       "      <td>5 марта в 09:48</td>\n",
       "      <td>Проспект Ветеранов</td>\n",
       "      <td>Денис</td>\n",
       "      <td>5.0</td>\n",
       "      <td>Санкт-Петербург, ул. Генерала Симоняка, 8к2</td>\n",
       "      <td>Продам холодильник Атлант ХМ-60012 независимых...</td>\n",
       "      <td>2,7 км</td>\n",
       "      <td>5.0</td>\n",
       "      <td>Частное лицо</td>\n",
       "      <td>179.0</td>\n",
       "    </tr>\n",
       "    <tr>\n",
       "      <th>1337</th>\n",
       "      <td>5500</td>\n",
       "      <td>Холодильник Beko-DSK251</td>\n",
       "      <td>4 марта в 21:38</td>\n",
       "      <td>NaN</td>\n",
       "      <td>Нина</td>\n",
       "      <td>NaN</td>\n",
       "      <td>Санкт-Петербург, ул. Пограничника Гарькавого</td>\n",
       "      <td>Состояние на 4ку.Перед тем как выставить на пр...</td>\n",
       "      <td>NaN</td>\n",
       "      <td>0.0</td>\n",
       "      <td>Частное лицо</td>\n",
       "      <td>62.0</td>\n",
       "    </tr>\n",
       "    <tr>\n",
       "      <th>1338</th>\n",
       "      <td>1270</td>\n",
       "      <td>Ручка Либхер (Liebherr ) Длина 31см (9086742)</td>\n",
       "      <td>2 марта в 17:48</td>\n",
       "      <td>Улица Дыбенко</td>\n",
       "      <td>Игорь</td>\n",
       "      <td>5.0</td>\n",
       "      <td>Санкт-Петербург, ул. Дыбенко</td>\n",
       "      <td>Оригинальные запчасти для холодильника Либхер:...</td>\n",
       "      <td>700 м</td>\n",
       "      <td>17.0</td>\n",
       "      <td>Частное лицо</td>\n",
       "      <td>14089.0</td>\n",
       "    </tr>\n",
       "    <tr>\n",
       "      <th>1339</th>\n",
       "      <td>890</td>\n",
       "      <td>Уплотнитель (C00854015) (57х83)</td>\n",
       "      <td>1 марта в 22:57</td>\n",
       "      <td>Парнас</td>\n",
       "      <td>Георгий</td>\n",
       "      <td>5.0</td>\n",
       "      <td>Санкт-Петербург</td>\n",
       "      <td>Уплотнитель двери 570x830мм для холодильников ...</td>\n",
       "      <td>NaN</td>\n",
       "      <td>31.0</td>\n",
       "      <td>Частное лицо</td>\n",
       "      <td>505.0</td>\n",
       "    </tr>\n",
       "  </tbody>\n",
       "</table>\n",
       "<p>1340 rows × 12 columns</p>\n",
       "</div>"
      ],
      "text/plain": [
       "      price                                          title       added_time  \\\n",
       "0      6000                                    Холодильник    вчера в 10:09   \n",
       "1      6000                        Холодильник LG no frost  сегодня в 01:35   \n",
       "2      2800                   Переносной холодильник новый  сегодня в 00:10   \n",
       "3      1500                               Холодильник Норд    вчера в 23:19   \n",
       "4      5000                            Холодильник zanussi    вчера в 23:14   \n",
       "...     ...                                            ...              ...   \n",
       "1335    800      Корпус (ящика+панель(щиток) Atlant атлант  1 марта в 21:52   \n",
       "1336   6500                     Холодильник Атлант хм-6001  5 марта в 09:48   \n",
       "1337   5500                        Холодильник Beko-DSK251  4 марта в 21:38   \n",
       "1338   1270  Ручка Либхер (Liebherr ) Длина 31см (9086742)  2 марта в 17:48   \n",
       "1339    890                Уплотнитель (C00854015) (57х83)  1 марта в 22:57   \n",
       "\n",
       "                   metro seller_name  seller_rating  \\\n",
       "0            Парк Победы        макс            5.0   \n",
       "1                    NaN   Александр            5.0   \n",
       "2             Приморская       Роман            5.0   \n",
       "3     Проспект Ветеранов        Олег            NaN   \n",
       "4           Елизаровская   Александр            5.0   \n",
       "...                  ...         ...            ...   \n",
       "1335                 NaN       Павел            NaN   \n",
       "1336  Проспект Ветеранов       Денис            5.0   \n",
       "1337                 NaN        Нина            NaN   \n",
       "1338       Улица Дыбенко       Игорь            5.0   \n",
       "1339              Парнас     Георгий            5.0   \n",
       "\n",
       "                                                address  \\\n",
       "0                 Санкт-Петербург, Кузнецовская ул., 21   \n",
       "1     Санкт-Петербург, Пушкинский р-н, пос. Шушары, ...   \n",
       "2                   Санкт-Петербург, Морская наб., 35к2   \n",
       "3                      Санкт-Петербург, садовые участки   \n",
       "4              Санкт-Петербург, ул. Ольги Берггольц, 18   \n",
       "...                                                 ...   \n",
       "1335  Ленинградская область, Ломоносовский р-н, Вилл...   \n",
       "1336        Санкт-Петербург, ул. Генерала Симоняка, 8к2   \n",
       "1337       Санкт-Петербург, ул. Пограничника Гарькавого   \n",
       "1338                       Санкт-Петербург, ул. Дыбенко   \n",
       "1339                                    Санкт-Петербург   \n",
       "\n",
       "                                            description dist_to_metro  \\\n",
       "0     ✓ Гарантируем лучшие условия в городе на покуп...         500 м   \n",
       "1     Холодильник двухкамерный LG GC-309 в хорошем р...           NaN   \n",
       "2     Переносной холодильник. Абсолютно новый, в кор...        1,4 км   \n",
       "3     Продам полностью рабочий холодильник Норд дх 4...        2,5 км   \n",
       "4                    Состояние 4, полностью рабочийТорг         300 м   \n",
       "...                                                 ...           ...   \n",
       "1335  в хорошем состоянии. использовалось не долго К...           NaN   \n",
       "1336  Продам холодильник Атлант ХМ-60012 независимых...        2,7 км   \n",
       "1337  Состояние на 4ку.Перед тем как выставить на пр...           NaN   \n",
       "1338  Оригинальные запчасти для холодильника Либхер:...         700 м   \n",
       "1339  Уплотнитель двери 570x830мм для холодильников ...           NaN   \n",
       "\n",
       "      seller_review seller_status    views  \n",
       "0               8.0  Частное лицо    353.0  \n",
       "1               3.0  Частное лицо     48.0  \n",
       "2               6.0  Частное лицо    622.0  \n",
       "3               0.0  Частное лицо     78.0  \n",
       "4               1.0  Частное лицо    108.0  \n",
       "...             ...           ...      ...  \n",
       "1335            0.0  Частное лицо     65.0  \n",
       "1336            5.0  Частное лицо    179.0  \n",
       "1337            0.0  Частное лицо     62.0  \n",
       "1338           17.0  Частное лицо  14089.0  \n",
       "1339           31.0  Частное лицо    505.0  \n",
       "\n",
       "[1340 rows x 12 columns]"
      ]
     },
     "execution_count": 2,
     "metadata": {},
     "output_type": "execute_result"
    }
   ],
   "source": [
    "df = pd.read_csv('fridge/fridge.csv')\n",
    "df"
   ]
  },
  {
   "cell_type": "markdown",
   "metadata": {},
   "source": [
    "# Посмотрим на NaN"
   ]
  },
  {
   "cell_type": "code",
   "execution_count": 3,
   "metadata": {},
   "outputs": [
    {
     "data": {
      "text/plain": [
       "price              0\n",
       "title              0\n",
       "added_time         0\n",
       "metro            198\n",
       "seller_name        0\n",
       "seller_rating    822\n",
       "address            0\n",
       "description        0\n",
       "dist_to_metro    425\n",
       "seller_review      0\n",
       "seller_status      0\n",
       "views              0\n",
       "dtype: int64"
      ]
     },
     "execution_count": 3,
     "metadata": {},
     "output_type": "execute_result"
    }
   ],
   "source": [
    "df.isna().sum()"
   ]
  },
  {
   "cell_type": "markdown",
   "metadata": {},
   "source": [
    "NaN-ов в важных столбцах нет. Ближайшее метро и расстояние до него можно будет получить через API Яндекса, а на рейтинг продавца можно не обращать особого внимания."
   ]
  },
  {
   "cell_type": "markdown",
   "metadata": {},
   "source": [
    "# Избавимся от объявлений, продающих неисправные холодильники или запчасти для них \n",
    "Профильтруем датафрейм по списку слов в заголовке. Потом можно будет сделать более продвинутый алгоритм, который будет работать с описанием товара.  \n",
    "Функция будет принимать текстовый файл со списком запрещенных слов."
   ]
  },
  {
   "cell_type": "code",
   "execution_count": 4,
   "metadata": {},
   "outputs": [],
   "source": [
    "def filter_df(df, filter_file):\n",
    "    with open(filter_file, 'r', encoding='utf-8') as f:\n",
    "        filter_words = f.readlines()\n",
    "    return df[~df.title.str.lower().str.contains('|'.join(filter_words))]"
   ]
  },
  {
   "cell_type": "code",
   "execution_count": 5,
   "metadata": {},
   "outputs": [
    {
     "data": {
      "text/html": [
       "<div>\n",
       "<style scoped>\n",
       "    .dataframe tbody tr th:only-of-type {\n",
       "        vertical-align: middle;\n",
       "    }\n",
       "\n",
       "    .dataframe tbody tr th {\n",
       "        vertical-align: top;\n",
       "    }\n",
       "\n",
       "    .dataframe thead th {\n",
       "        text-align: right;\n",
       "    }\n",
       "</style>\n",
       "<table border=\"1\" class=\"dataframe\">\n",
       "  <thead>\n",
       "    <tr style=\"text-align: right;\">\n",
       "      <th></th>\n",
       "      <th>count</th>\n",
       "      <th>mean</th>\n",
       "      <th>std</th>\n",
       "      <th>min</th>\n",
       "      <th>25%</th>\n",
       "      <th>50%</th>\n",
       "      <th>75%</th>\n",
       "      <th>max</th>\n",
       "    </tr>\n",
       "  </thead>\n",
       "  <tbody>\n",
       "    <tr>\n",
       "      <th>price</th>\n",
       "      <td>1332.0</td>\n",
       "      <td>3671.012012</td>\n",
       "      <td>1673.496757</td>\n",
       "      <td>750.0</td>\n",
       "      <td>2100.0</td>\n",
       "      <td>3994.5</td>\n",
       "      <td>5000.00</td>\n",
       "      <td>6500.0</td>\n",
       "    </tr>\n",
       "    <tr>\n",
       "      <th>seller_rating</th>\n",
       "      <td>513.0</td>\n",
       "      <td>4.524756</td>\n",
       "      <td>1.195055</td>\n",
       "      <td>1.0</td>\n",
       "      <td>5.0</td>\n",
       "      <td>5.0</td>\n",
       "      <td>5.00</td>\n",
       "      <td>5.0</td>\n",
       "    </tr>\n",
       "    <tr>\n",
       "      <th>seller_review</th>\n",
       "      <td>1332.0</td>\n",
       "      <td>2.818318</td>\n",
       "      <td>7.785345</td>\n",
       "      <td>0.0</td>\n",
       "      <td>0.0</td>\n",
       "      <td>0.0</td>\n",
       "      <td>1.00</td>\n",
       "      <td>51.0</td>\n",
       "    </tr>\n",
       "    <tr>\n",
       "      <th>views</th>\n",
       "      <td>1332.0</td>\n",
       "      <td>476.337087</td>\n",
       "      <td>978.393179</td>\n",
       "      <td>16.0</td>\n",
       "      <td>117.0</td>\n",
       "      <td>238.0</td>\n",
       "      <td>477.25</td>\n",
       "      <td>14733.0</td>\n",
       "    </tr>\n",
       "  </tbody>\n",
       "</table>\n",
       "</div>"
      ],
      "text/plain": [
       "                count         mean          std    min     25%     50%  \\\n",
       "price          1332.0  3671.012012  1673.496757  750.0  2100.0  3994.5   \n",
       "seller_rating   513.0     4.524756     1.195055    1.0     5.0     5.0   \n",
       "seller_review  1332.0     2.818318     7.785345    0.0     0.0     0.0   \n",
       "views          1332.0   476.337087   978.393179   16.0   117.0   238.0   \n",
       "\n",
       "                   75%      max  \n",
       "price          5000.00   6500.0  \n",
       "seller_rating     5.00      5.0  \n",
       "seller_review     1.00     51.0  \n",
       "views           477.25  14733.0  "
      ]
     },
     "execution_count": 5,
     "metadata": {},
     "output_type": "execute_result"
    }
   ],
   "source": [
    "df = filter_df(df, 'fridge/fridge_filter.txt')\n",
    "df.describe().transpose()"
   ]
  },
  {
   "cell_type": "markdown",
   "metadata": {},
   "source": [
    "# Переведем строки в более удобные форматы\n",
    "## Переведем столбец *dist_to_metro*"
   ]
  },
  {
   "cell_type": "code",
   "execution_count": 6,
   "metadata": {},
   "outputs": [
    {
     "name": "stderr",
     "output_type": "stream",
     "text": [
      "C:\\Users\\xopclabs\\Anaconda3\\lib\\site-packages\\ipykernel_launcher.py:10: SettingWithCopyWarning: \n",
      "A value is trying to be set on a copy of a slice from a DataFrame.\n",
      "Try using .loc[row_indexer,col_indexer] = value instead\n",
      "\n",
      "See the caveats in the documentation: https://pandas.pydata.org/pandas-docs/stable/user_guide/indexing.html#returning-a-view-versus-a-copy\n",
      "  # Remove the CWD from sys.path while we load stuff.\n"
     ]
    }
   ],
   "source": [
    "def dist_to_float(x):\n",
    "    if type(x) != str:\n",
    "        return x\n",
    "    dist, unit = x.split()\n",
    "    dist = dist.replace(',', '.')\n",
    "    dist = float(dist)\n",
    "    if unit == 'км':\n",
    "        dist *= 1000\n",
    "    return dist\n",
    "df['dist_to_metro'] = df.dist_to_metro.map(dist_to_float)"
   ]
  },
  {
   "cell_type": "code",
   "execution_count": 7,
   "metadata": {},
   "outputs": [
    {
     "data": {
      "text/plain": [
       "count      913.000000\n",
       "mean      1180.722892\n",
       "std       1033.517628\n",
       "min        100.000000\n",
       "25%        500.000000\n",
       "50%        900.000000\n",
       "75%       1500.000000\n",
       "max      10200.000000\n",
       "Name: dist_to_metro, dtype: float64"
      ]
     },
     "execution_count": 7,
     "metadata": {},
     "output_type": "execute_result"
    }
   ],
   "source": [
    "df.dist_to_metro.describe()"
   ]
  },
  {
   "cell_type": "markdown",
   "metadata": {},
   "source": [
    "## Переведем столбец *added_time*"
   ]
  },
  {
   "cell_type": "code",
   "execution_count": 8,
   "metadata": {},
   "outputs": [
    {
     "data": {
      "text/plain": [
       "True    1332\n",
       "Name: added_time, dtype: int64"
      ]
     },
     "execution_count": 8,
     "metadata": {},
     "output_type": "execute_result"
    }
   ],
   "source": [
    "df.added_time.str.contains(' в ').value_counts()"
   ]
  },
  {
   "cell_type": "markdown",
   "metadata": {},
   "source": [
    "Каждая запись имеет ```' в '``` внутри. Значит, мы сможем безопасно разделить стринг по этому токену"
   ]
  },
  {
   "cell_type": "code",
   "execution_count": 9,
   "metadata": {},
   "outputs": [],
   "source": [
    "from datetime import datetime, timedelta\n",
    "\n",
    "def str_to_datetime(x):\n",
    "    date, time = x.split(' в ')\n",
    "    hour, minute = list(map(int, time.split(':')))\n",
    "    if date == 'вчера':\n",
    "        yesterday = datetime.now() - timedelta(days=1)\n",
    "        day = yesterday.day\n",
    "        month = yesterday.month\n",
    "    elif date == 'сегодня':\n",
    "        now = datetime.now()\n",
    "        day = now.day\n",
    "        month = now.month\n",
    "    else:\n",
    "        ru_to_num = {\n",
    "            'января':1,\n",
    "            'февраля':2,\n",
    "            'марта':3,\n",
    "            'апреля':4,\n",
    "            'мая':5,\n",
    "            'июня':6,\n",
    "            'июля':7,\n",
    "            'августа':8,\n",
    "            'сентября':9,\n",
    "            'октября':10,\n",
    "            'ноября':11,\n",
    "            'декабря':12,\n",
    "        }\n",
    "        day, month = date.split()\n",
    "        day = int(day)\n",
    "        month = ru_to_num[month]\n",
    "    return datetime(2020, month, day, hour, minute) "
   ]
  },
  {
   "cell_type": "code",
   "execution_count": 10,
   "metadata": {},
   "outputs": [
    {
     "name": "stderr",
     "output_type": "stream",
     "text": [
      "C:\\Users\\xopclabs\\Anaconda3\\lib\\site-packages\\ipykernel_launcher.py:1: SettingWithCopyWarning: \n",
      "A value is trying to be set on a copy of a slice from a DataFrame.\n",
      "Try using .loc[row_indexer,col_indexer] = value instead\n",
      "\n",
      "See the caveats in the documentation: https://pandas.pydata.org/pandas-docs/stable/user_guide/indexing.html#returning-a-view-versus-a-copy\n",
      "  \"\"\"Entry point for launching an IPython kernel.\n"
     ]
    }
   ],
   "source": [
    "df['added_time'] = df.added_time.map(str_to_datetime)"
   ]
  },
  {
   "cell_type": "code",
   "execution_count": 11,
   "metadata": {},
   "outputs": [
    {
     "data": {
      "text/plain": [
       "0      2020-03-30 10:09:00\n",
       "1      2020-03-31 01:35:00\n",
       "2      2020-03-31 00:10:00\n",
       "3      2020-03-30 23:19:00\n",
       "4      2020-03-30 23:14:00\n",
       "               ...        \n",
       "1335   2020-03-01 21:52:00\n",
       "1336   2020-03-05 09:48:00\n",
       "1337   2020-03-04 21:38:00\n",
       "1338   2020-03-02 17:48:00\n",
       "1339   2020-03-01 22:57:00\n",
       "Name: added_time, Length: 1332, dtype: datetime64[ns]"
      ]
     },
     "execution_count": 11,
     "metadata": {},
     "output_type": "execute_result"
    }
   ],
   "source": [
    "df.added_time"
   ]
  },
  {
   "cell_type": "markdown",
   "metadata": {},
   "source": [
    "# Получим координаты места по адресу через Геокодер Яндекса"
   ]
  },
  {
   "cell_type": "code",
   "execution_count": 12,
   "metadata": {},
   "outputs": [
    {
     "data": {
      "text/plain": [
       "'Санкт-Петербург, Морская наб., 35к2'"
      ]
     },
     "execution_count": 12,
     "metadata": {},
     "output_type": "execute_result"
    }
   ],
   "source": [
    "import requests\n",
    "import json\n",
    "from secret import API_KEY\n",
    "example = df.iloc[2].address\n",
    "example"
   ]
  },
  {
   "cell_type": "code",
   "execution_count": 13,
   "metadata": {},
   "outputs": [
    {
     "data": {
      "text/plain": [
       "{'response': {'GeoObjectCollection': {'metaDataProperty': {'GeocoderResponseMetaData': {'request': 'Санкт-Петербург, Морская наб., 35к2',\n",
       "     'results': '10',\n",
       "     'found': '1'}},\n",
       "   'featureMember': [{'GeoObject': {'metaDataProperty': {'GeocoderMetaData': {'precision': 'exact',\n",
       "        'text': 'Россия, Санкт-Петербург, Морская набережная, 35к2',\n",
       "        'kind': 'house',\n",
       "        'Address': {'country_code': 'RU',\n",
       "         'formatted': 'Россия, Санкт-Петербург, Морская набережная, 35к2',\n",
       "         'postal_code': '199155',\n",
       "         'Components': [{'kind': 'country', 'name': 'Россия'},\n",
       "          {'kind': 'province', 'name': 'Северо-Западный федеральный округ'},\n",
       "          {'kind': 'province', 'name': 'Санкт-Петербург'},\n",
       "          {'kind': 'locality', 'name': 'Санкт-Петербург'},\n",
       "          {'kind': 'street', 'name': 'Морская набережная'},\n",
       "          {'kind': 'house', 'name': '35к2'}]},\n",
       "        'AddressDetails': {'Country': {'AddressLine': 'Россия, Санкт-Петербург, Морская набережная, 35к2',\n",
       "          'CountryNameCode': 'RU',\n",
       "          'CountryName': 'Россия',\n",
       "          'AdministrativeArea': {'AdministrativeAreaName': 'Санкт-Петербург',\n",
       "           'Locality': {'LocalityName': 'Санкт-Петербург',\n",
       "            'Thoroughfare': {'ThoroughfareName': 'Морская набережная',\n",
       "             'Premise': {'PremiseNumber': '35к2',\n",
       "              'PostalCode': {'PostalCodeNumber': '199155'}}}}}}}}},\n",
       "      'name': 'Морская набережная, 35к2',\n",
       "      'description': 'Санкт-Петербург, Россия',\n",
       "      'boundedBy': {'Envelope': {'lowerCorner': '30.216254 59.957079',\n",
       "        'upperCorner': '30.224465 59.961197'}},\n",
       "      'Point': {'pos': '30.220359 59.959138'}}}]}}}"
      ]
     },
     "execution_count": 13,
     "metadata": {},
     "output_type": "execute_result"
    }
   ],
   "source": [
    "request = 'https://geocode-maps.yandex.ru/1.x/?format=json&apikey={}&geocode={}'.format(API_KEY, example.replace(' ', '+'))\n",
    "r = requests.get(request)\n",
    "response = json.loads(r.text)\n",
    "response"
   ]
  },
  {
   "cell_type": "code",
   "execution_count": 14,
   "metadata": {},
   "outputs": [],
   "source": [
    "def get_coords(x):\n",
    "    request = 'https://geocode-maps.yandex.ru/1.x/?format=json&apikey={}&geocode={}'.format(API_KEY, x.replace(' ', '+'))\n",
    "    r = requests.get(request)\n",
    "    coords = json.loads(r.text)['response']\n",
    "    coords = coords['GeoObjectCollection']['featureMember'][0]\n",
    "    coords = coords['GeoObject']['Point']['pos']\n",
    "    coords = coords.split()[::-1]\n",
    "    coords = list(map(float, coords))\n",
    "    return coords"
   ]
  },
  {
   "cell_type": "code",
   "execution_count": 15,
   "metadata": {},
   "outputs": [
    {
     "data": {
      "text/plain": [
       "[59.959138, 30.220359]"
      ]
     },
     "execution_count": 15,
     "metadata": {},
     "output_type": "execute_result"
    }
   ],
   "source": [
    "get_coords(example)"
   ]
  },
  {
   "cell_type": "code",
   "execution_count": 16,
   "metadata": {},
   "outputs": [],
   "source": [
    "df['coords'] = df.address.map(get_coords)"
   ]
  },
  {
   "cell_type": "markdown",
   "metadata": {},
   "source": [
    "\"Растащим\" список на две отдельные колонки"
   ]
  },
  {
   "cell_type": "code",
   "execution_count": 17,
   "metadata": {},
   "outputs": [],
   "source": [
    "df[['lat', 'long']] = pd.DataFrame(df.coords.values.tolist(), index=df.index)\n",
    "df = df.drop('coords', 1)"
   ]
  },
  {
   "cell_type": "markdown",
   "metadata": {},
   "source": [
    "Соберем это в отдельную функцию"
   ]
  },
  {
   "cell_type": "code",
   "execution_count": 18,
   "metadata": {},
   "outputs": [],
   "source": [
    "def geocode(df):\n",
    "    from secrect import API_KEY\n",
    "    def get_coords(x):\n",
    "        request = 'https://geocode-maps.yandex.ru/1.x/?format=json&apikey={}&geocode={}'.format(API_KEY, x.replace(' ', '+'))\n",
    "        r = requests.get(request)\n",
    "        coords = json.loads(r.text)['response']\n",
    "        coords = coords['GeoObjectCollection']['featureMember'][0]\n",
    "        coords = coords['GeoObject']['Point']['pos']\n",
    "        coords = coords.split()[::-1]\n",
    "        coords = list(map(float, coords))\n",
    "        return coords\n",
    "    \n",
    "    df['coords'] = df.address.map(get_coords)\n",
    "    df[['lat', 'long']] = pd.DataFrame(df.coords.values.tolist(), index=df.index)\n",
    "    df = df.drop('coords', 1)\n",
    "    "
   ]
  },
  {
   "cell_type": "code",
   "execution_count": 19,
   "metadata": {},
   "outputs": [],
   "source": [
    "df.to_csv('fridge/fridge_.csv', index=False)"
   ]
  }
 ],
 "metadata": {
  "kernelspec": {
   "display_name": "Python 3",
   "language": "python",
   "name": "python3"
  },
  "language_info": {
   "codemirror_mode": {
    "name": "ipython",
    "version": 3
   },
   "file_extension": ".py",
   "mimetype": "text/x-python",
   "name": "python",
   "nbconvert_exporter": "python",
   "pygments_lexer": "ipython3",
   "version": "3.7.6"
  }
 },
 "nbformat": 4,
 "nbformat_minor": 4
}
