{
 "cells": [
  {
   "cell_type": "code",
   "execution_count": 1,
   "metadata": {},
   "outputs": [],
   "source": [
    "import pandas as pd\n",
    "import numpy as np"
   ]
  },
  {
   "cell_type": "code",
   "execution_count": 2,
   "metadata": {},
   "outputs": [
    {
     "data": {
      "text/html": [
       "<div>\n",
       "<style scoped>\n",
       "    .dataframe tbody tr th:only-of-type {\n",
       "        vertical-align: middle;\n",
       "    }\n",
       "\n",
       "    .dataframe tbody tr th {\n",
       "        vertical-align: top;\n",
       "    }\n",
       "\n",
       "    .dataframe thead th {\n",
       "        text-align: right;\n",
       "    }\n",
       "</style>\n",
       "<table border=\"1\" class=\"dataframe\">\n",
       "  <thead>\n",
       "    <tr style=\"text-align: right;\">\n",
       "      <th></th>\n",
       "      <th>price</th>\n",
       "      <th>title</th>\n",
       "      <th>added_time</th>\n",
       "      <th>metro</th>\n",
       "      <th>seller_name</th>\n",
       "      <th>seller_rating</th>\n",
       "      <th>link</th>\n",
       "      <th>address</th>\n",
       "      <th>description</th>\n",
       "      <th>dist_to_metro</th>\n",
       "      <th>parsed_at</th>\n",
       "      <th>seller_review</th>\n",
       "      <th>seller_status</th>\n",
       "      <th>views</th>\n",
       "    </tr>\n",
       "  </thead>\n",
       "  <tbody>\n",
       "    <tr>\n",
       "      <th>0</th>\n",
       "      <td>5500.0</td>\n",
       "      <td>Холодильник</td>\n",
       "      <td>вчера в 23:06</td>\n",
       "      <td>Озерки</td>\n",
       "      <td>Магазин Б/У Техника</td>\n",
       "      <td>NaN</td>\n",
       "      <td>https://www.avito.ru/sankt-peterburg/bytovaya_...</td>\n",
       "      <td>Санкт-Петербург</td>\n",
       "      <td>Холодильник lg Гарантия 3 месяца, доставка, во...</td>\n",
       "      <td>NaN</td>\n",
       "      <td>2020-03-31 01:15:33.366149</td>\n",
       "      <td>0.0</td>\n",
       "      <td>Компания</td>\n",
       "      <td>1218.0</td>\n",
       "    </tr>\n",
       "    <tr>\n",
       "      <th>1</th>\n",
       "      <td>6200.0</td>\n",
       "      <td>Холодильник бу Nord</td>\n",
       "      <td>вчера в 18:39</td>\n",
       "      <td>Улица Дыбенко</td>\n",
       "      <td>\"ТехноПлюс\" БЫТОВАЯ ТЕХНИКА БУ</td>\n",
       "      <td>3.3</td>\n",
       "      <td>https://www.avito.ru/sankt-peterburg/bytovaya_...</td>\n",
       "      <td>Санкт-Петербург, ул. Дыбенко, 26</td>\n",
       "      <td>Холодильник Nord/Норд - В/Ш/Г(142/60-56) \"Техн...</td>\n",
       "      <td>NaN</td>\n",
       "      <td>2020-03-31 01:15:34.915264</td>\n",
       "      <td>4.0</td>\n",
       "      <td>Компания</td>\n",
       "      <td>6.0</td>\n",
       "    </tr>\n",
       "    <tr>\n",
       "      <th>2</th>\n",
       "      <td>6400.0</td>\n",
       "      <td>Холодильник</td>\n",
       "      <td>вчера в 18:09</td>\n",
       "      <td>Академическая</td>\n",
       "      <td>\"ТехноПлюс\" БЫТОВАЯ ТЕХНИКА БУ</td>\n",
       "      <td>3.3</td>\n",
       "      <td>https://www.avito.ru/sankt-peterburg/bytovaya_...</td>\n",
       "      <td>Санкт-Петербург, Калининский район, муниципаль...</td>\n",
       "      <td>Холодильник Атлант - В/Ш/Г(146/47/60) “ТехноПл...</td>\n",
       "      <td>NaN</td>\n",
       "      <td>2020-03-31 01:15:36.435182</td>\n",
       "      <td>4.0</td>\n",
       "      <td>Компания</td>\n",
       "      <td>50.0</td>\n",
       "    </tr>\n",
       "    <tr>\n",
       "      <th>3</th>\n",
       "      <td>5900.0</td>\n",
       "      <td>Холодильник</td>\n",
       "      <td>вчера в 15:10</td>\n",
       "      <td>Приморская</td>\n",
       "      <td>\"ТехноПлюс\" БЫТОВАЯ ТЕХНИКА БУ</td>\n",
       "      <td>3.3</td>\n",
       "      <td>https://www.avito.ru/sankt-peterburg/bytovaya_...</td>\n",
       "      <td>Санкт-Петербург, ул. Одоевского, 29</td>\n",
       "      <td>Холодильник Позис - В/Ш/Г(185/60/57) “ТехноПлю...</td>\n",
       "      <td>NaN</td>\n",
       "      <td>2020-03-31 01:15:38.122599</td>\n",
       "      <td>4.0</td>\n",
       "      <td>Компания</td>\n",
       "      <td>10.0</td>\n",
       "    </tr>\n",
       "    <tr>\n",
       "      <th>4</th>\n",
       "      <td>1000.0</td>\n",
       "      <td>Холодильник</td>\n",
       "      <td>вчера в 22:57</td>\n",
       "      <td>Беговая</td>\n",
       "      <td>Ирья</td>\n",
       "      <td>5.0</td>\n",
       "      <td>https://www.avito.ru/sankt-peterburg/bytovaya_...</td>\n",
       "      <td>Санкт-Петербург, Богатырский пр-т, 58к3</td>\n",
       "      <td>Продам холодильник. Работает только морозилка....</td>\n",
       "      <td>1,9 км</td>\n",
       "      <td>2020-03-31 01:15:40.715788</td>\n",
       "      <td>1.0</td>\n",
       "      <td>Частное лицо</td>\n",
       "      <td>75.0</td>\n",
       "    </tr>\n",
       "  </tbody>\n",
       "</table>\n",
       "</div>"
      ],
      "text/plain": [
       "    price                title     added_time          metro  \\\n",
       "0  5500.0          Холодильник  вчера в 23:06         Озерки   \n",
       "1  6200.0  Холодильник бу Nord  вчера в 18:39  Улица Дыбенко   \n",
       "2  6400.0          Холодильник  вчера в 18:09  Академическая   \n",
       "3  5900.0          Холодильник  вчера в 15:10     Приморская   \n",
       "4  1000.0          Холодильник  вчера в 22:57        Беговая   \n",
       "\n",
       "                      seller_name  seller_rating  \\\n",
       "0             Магазин Б/У Техника            NaN   \n",
       "1  \"ТехноПлюс\" БЫТОВАЯ ТЕХНИКА БУ            3.3   \n",
       "2  \"ТехноПлюс\" БЫТОВАЯ ТЕХНИКА БУ            3.3   \n",
       "3  \"ТехноПлюс\" БЫТОВАЯ ТЕХНИКА БУ            3.3   \n",
       "4                            Ирья            5.0   \n",
       "\n",
       "                                                link  \\\n",
       "0  https://www.avito.ru/sankt-peterburg/bytovaya_...   \n",
       "1  https://www.avito.ru/sankt-peterburg/bytovaya_...   \n",
       "2  https://www.avito.ru/sankt-peterburg/bytovaya_...   \n",
       "3  https://www.avito.ru/sankt-peterburg/bytovaya_...   \n",
       "4  https://www.avito.ru/sankt-peterburg/bytovaya_...   \n",
       "\n",
       "                                             address  \\\n",
       "0                                    Санкт-Петербург   \n",
       "1                   Санкт-Петербург, ул. Дыбенко, 26   \n",
       "2  Санкт-Петербург, Калининский район, муниципаль...   \n",
       "3                Санкт-Петербург, ул. Одоевского, 29   \n",
       "4            Санкт-Петербург, Богатырский пр-т, 58к3   \n",
       "\n",
       "                                         description dist_to_metro  \\\n",
       "0  Холодильник lg Гарантия 3 месяца, доставка, во...           NaN   \n",
       "1  Холодильник Nord/Норд - В/Ш/Г(142/60-56) \"Техн...           NaN   \n",
       "2  Холодильник Атлант - В/Ш/Г(146/47/60) “ТехноПл...           NaN   \n",
       "3  Холодильник Позис - В/Ш/Г(185/60/57) “ТехноПлю...           NaN   \n",
       "4  Продам холодильник. Работает только морозилка....        1,9 км   \n",
       "\n",
       "                    parsed_at  seller_review seller_status   views  \n",
       "0  2020-03-31 01:15:33.366149            0.0      Компания  1218.0  \n",
       "1  2020-03-31 01:15:34.915264            4.0      Компания     6.0  \n",
       "2  2020-03-31 01:15:36.435182            4.0      Компания    50.0  \n",
       "3  2020-03-31 01:15:38.122599            4.0      Компания    10.0  \n",
       "4  2020-03-31 01:15:40.715788            1.0  Частное лицо    75.0  "
      ]
     },
     "execution_count": 2,
     "metadata": {},
     "output_type": "execute_result"
    }
   ],
   "source": [
    "df = pd.read_csv('data/fridge/fridge.csv')\n",
    "df.head()"
   ]
  },
  {
   "cell_type": "markdown",
   "metadata": {},
   "source": [
    "Переведем столбец ```parsed_at``` в *datetime-object*"
   ]
  },
  {
   "cell_type": "code",
   "execution_count": 3,
   "metadata": {},
   "outputs": [
    {
     "name": "stdout",
     "output_type": "stream",
     "text": [
      "<class 'pandas.core.frame.DataFrame'>\n",
      "RangeIndex: 1952 entries, 0 to 1951\n",
      "Data columns (total 14 columns):\n",
      " #   Column         Non-Null Count  Dtype         \n",
      "---  ------         --------------  -----         \n",
      " 0   price          1951 non-null   float64       \n",
      " 1   title          1951 non-null   object        \n",
      " 2   added_time     1951 non-null   object        \n",
      " 3   metro          1758 non-null   object        \n",
      " 4   seller_name    1951 non-null   object        \n",
      " 5   seller_rating  1081 non-null   float64       \n",
      " 6   link           1952 non-null   object        \n",
      " 7   address        1951 non-null   object        \n",
      " 8   description    1951 non-null   object        \n",
      " 9   dist_to_metro  1261 non-null   object        \n",
      " 10  parsed_at      1952 non-null   datetime64[ns]\n",
      " 11  seller_review  1952 non-null   float64       \n",
      " 12  seller_status  1951 non-null   object        \n",
      " 13  views          1951 non-null   float64       \n",
      "dtypes: datetime64[ns](1), float64(4), object(9)\n",
      "memory usage: 213.6+ KB\n"
     ]
    }
   ],
   "source": [
    "df['parsed_at'] = pd.to_datetime(df['parsed_at'])\n",
    "df.info()"
   ]
  },
  {
   "cell_type": "markdown",
   "metadata": {},
   "source": [
    "# Посмотрим на NaN"
   ]
  },
  {
   "cell_type": "code",
   "execution_count": 4,
   "metadata": {},
   "outputs": [
    {
     "data": {
      "text/plain": [
       "price              1\n",
       "title              1\n",
       "added_time         1\n",
       "metro            194\n",
       "seller_name        1\n",
       "seller_rating    871\n",
       "link               0\n",
       "address            1\n",
       "description        1\n",
       "dist_to_metro    691\n",
       "parsed_at          0\n",
       "seller_review      0\n",
       "seller_status      1\n",
       "views              1\n",
       "dtype: int64"
      ]
     },
     "execution_count": 4,
     "metadata": {},
     "output_type": "execute_result"
    }
   ],
   "source": [
    "df.isna().sum()"
   ]
  },
  {
   "cell_type": "markdown",
   "metadata": {},
   "source": [
    "Удалим все записи, в которых нет столбца added_time"
   ]
  },
  {
   "cell_type": "code",
   "execution_count": 5,
   "metadata": {},
   "outputs": [],
   "source": [
    "df = df[df['added_time'].notna()]"
   ]
  },
  {
   "cell_type": "code",
   "execution_count": 6,
   "metadata": {},
   "outputs": [
    {
     "data": {
      "text/plain": [
       "price              0\n",
       "title              0\n",
       "added_time         0\n",
       "metro            193\n",
       "seller_name        0\n",
       "seller_rating    870\n",
       "link               0\n",
       "address            0\n",
       "description        0\n",
       "dist_to_metro    690\n",
       "parsed_at          0\n",
       "seller_review      0\n",
       "seller_status      0\n",
       "views              0\n",
       "dtype: int64"
      ]
     },
     "execution_count": 6,
     "metadata": {},
     "output_type": "execute_result"
    }
   ],
   "source": [
    "df.isna().sum()"
   ]
  },
  {
   "cell_type": "markdown",
   "metadata": {},
   "source": [
    "Теперь NaN-ов в важных столбцах нет. Ближайшее метро и расстояние до него можно будет получить через API Яндекса, а на рейтинг продавца можно не обращать особого внимания."
   ]
  },
  {
   "cell_type": "markdown",
   "metadata": {},
   "source": [
    "# Избавимся от объявлений, продающих неисправные холодильники или запчасти для них \n",
    "Профильтруем датафрейм по списку слов в заголовке. Потом можно будет сделать более продвинутый алгоритм, который будет работать с описанием товара.  \n",
    "Функция будет принимать текстовый файл со списком запрещенных слов."
   ]
  },
  {
   "cell_type": "code",
   "execution_count": 7,
   "metadata": {},
   "outputs": [],
   "source": [
    "def filter_df(df, filter_file):\n",
    "    with open(filter_file, 'r', encoding='utf-8') as f:\n",
    "        filter_words = f.readlines()\n",
    "    return df[~df.title.str.lower().str.contains('|'.join(filter_words))]"
   ]
  },
  {
   "cell_type": "code",
   "execution_count": 8,
   "metadata": {},
   "outputs": [
    {
     "data": {
      "text/html": [
       "<div>\n",
       "<style scoped>\n",
       "    .dataframe tbody tr th:only-of-type {\n",
       "        vertical-align: middle;\n",
       "    }\n",
       "\n",
       "    .dataframe tbody tr th {\n",
       "        vertical-align: top;\n",
       "    }\n",
       "\n",
       "    .dataframe thead th {\n",
       "        text-align: right;\n",
       "    }\n",
       "</style>\n",
       "<table border=\"1\" class=\"dataframe\">\n",
       "  <thead>\n",
       "    <tr style=\"text-align: right;\">\n",
       "      <th></th>\n",
       "      <th>count</th>\n",
       "      <th>mean</th>\n",
       "      <th>std</th>\n",
       "      <th>min</th>\n",
       "      <th>25%</th>\n",
       "      <th>50%</th>\n",
       "      <th>75%</th>\n",
       "      <th>max</th>\n",
       "    </tr>\n",
       "  </thead>\n",
       "  <tbody>\n",
       "    <tr>\n",
       "      <th>price</th>\n",
       "      <td>1939.0</td>\n",
       "      <td>3896.818979</td>\n",
       "      <td>1711.678637</td>\n",
       "      <td>750.0</td>\n",
       "      <td>2500.0</td>\n",
       "      <td>4000.0</td>\n",
       "      <td>5100.0</td>\n",
       "      <td>6500.0</td>\n",
       "    </tr>\n",
       "    <tr>\n",
       "      <th>seller_rating</th>\n",
       "      <td>1070.0</td>\n",
       "      <td>4.464393</td>\n",
       "      <td>0.821742</td>\n",
       "      <td>1.0</td>\n",
       "      <td>4.0</td>\n",
       "      <td>5.0</td>\n",
       "      <td>5.0</td>\n",
       "      <td>5.0</td>\n",
       "    </tr>\n",
       "    <tr>\n",
       "      <th>seller_review</th>\n",
       "      <td>1939.0</td>\n",
       "      <td>4.111913</td>\n",
       "      <td>6.962627</td>\n",
       "      <td>0.0</td>\n",
       "      <td>0.0</td>\n",
       "      <td>1.0</td>\n",
       "      <td>8.0</td>\n",
       "      <td>95.0</td>\n",
       "    </tr>\n",
       "    <tr>\n",
       "      <th>views</th>\n",
       "      <td>1939.0</td>\n",
       "      <td>56.066013</td>\n",
       "      <td>351.849745</td>\n",
       "      <td>1.0</td>\n",
       "      <td>10.0</td>\n",
       "      <td>22.0</td>\n",
       "      <td>45.5</td>\n",
       "      <td>14783.0</td>\n",
       "    </tr>\n",
       "  </tbody>\n",
       "</table>\n",
       "</div>"
      ],
      "text/plain": [
       "                count         mean          std    min     25%     50%  \\\n",
       "price          1939.0  3896.818979  1711.678637  750.0  2500.0  4000.0   \n",
       "seller_rating  1070.0     4.464393     0.821742    1.0     4.0     5.0   \n",
       "seller_review  1939.0     4.111913     6.962627    0.0     0.0     1.0   \n",
       "views          1939.0    56.066013   351.849745    1.0    10.0    22.0   \n",
       "\n",
       "                  75%      max  \n",
       "price          5100.0   6500.0  \n",
       "seller_rating     5.0      5.0  \n",
       "seller_review     8.0     95.0  \n",
       "views            45.5  14783.0  "
      ]
     },
     "execution_count": 8,
     "metadata": {},
     "output_type": "execute_result"
    }
   ],
   "source": [
    "df = filter_df(df, 'data/fridge/fridge_filter.txt')\n",
    "df.describe().transpose()"
   ]
  },
  {
   "cell_type": "markdown",
   "metadata": {},
   "source": [
    "# Переведем строки в более удобные форматы\n",
    "## Переведем столбец *dist_to_metro*"
   ]
  },
  {
   "cell_type": "code",
   "execution_count": 9,
   "metadata": {},
   "outputs": [],
   "source": [
    "def dist_to_float(x):\n",
    "    if type(x) != str:\n",
    "        return x\n",
    "    dist, unit = x.split()\n",
    "    dist = dist.replace(',', '.')\n",
    "    dist = float(dist)\n",
    "    if unit == 'км':\n",
    "        dist *= 1000\n",
    "    return dist\n",
    "df['dist_to_metro'] = df['dist_to_metro'].map(dist_to_float)"
   ]
  },
  {
   "cell_type": "code",
   "execution_count": 10,
   "metadata": {},
   "outputs": [
    {
     "data": {
      "text/plain": [
       "count     1251.000000\n",
       "mean      1094.884093\n",
       "std        929.183408\n",
       "min        100.000000\n",
       "25%        500.000000\n",
       "50%        900.000000\n",
       "75%       1400.000000\n",
       "max      10200.000000\n",
       "Name: dist_to_metro, dtype: float64"
      ]
     },
     "execution_count": 10,
     "metadata": {},
     "output_type": "execute_result"
    }
   ],
   "source": [
    "df.dist_to_metro.describe()"
   ]
  },
  {
   "cell_type": "markdown",
   "metadata": {},
   "source": [
    "## Переведем столбец *added_time*"
   ]
  },
  {
   "cell_type": "code",
   "execution_count": 11,
   "metadata": {},
   "outputs": [
    {
     "data": {
      "text/plain": [
       "True    1939\n",
       "Name: added_time, dtype: int64"
      ]
     },
     "execution_count": 11,
     "metadata": {},
     "output_type": "execute_result"
    }
   ],
   "source": [
    "df.added_time.str.contains(' в ').value_counts()"
   ]
  },
  {
   "cell_type": "markdown",
   "metadata": {},
   "source": [
    "Каждая запись имеет ```' в '``` внутри. Значит, мы сможем безопасно разделить стринг по этому токену"
   ]
  },
  {
   "cell_type": "code",
   "execution_count": 12,
   "metadata": {},
   "outputs": [],
   "source": [
    "from datetime import datetime, timedelta\n",
    "\n",
    "def str_to_datetime(string_date, parsed_at):\n",
    "    date, time = string_date.split(' в ')\n",
    "    hour, minute = list(map(int, time.split(':')))\n",
    "    if date == 'вчера':\n",
    "        yesterday = parsed_at - timedelta(days=1)\n",
    "        day = yesterday.day\n",
    "        month = yesterday.month\n",
    "    elif date == 'сегодня':\n",
    "        day = parsed_at.day\n",
    "        month = parsed_at.month\n",
    "    else:\n",
    "        ru_to_num = {\n",
    "            'января':1,\n",
    "            'февраля':2,\n",
    "            'марта':3,\n",
    "            'апреля':4,\n",
    "            'мая':5,\n",
    "            'июня':6,\n",
    "            'июля':7,\n",
    "            'августа':8,\n",
    "            'сентября':9,\n",
    "            'октября':10,\n",
    "            'ноября':11,\n",
    "            'декабря':12,\n",
    "        }\n",
    "        day, month = date.split()\n",
    "        day = int(day)\n",
    "        month = ru_to_num[month]\n",
    "    return datetime(2020, month, day, hour, minute) "
   ]
  },
  {
   "cell_type": "code",
   "execution_count": 13,
   "metadata": {},
   "outputs": [],
   "source": [
    "df['added_time'] = df.apply(lambda x: str_to_datetime(x['added_time'], x['parsed_at']), axis=1)"
   ]
  },
  {
   "cell_type": "code",
   "execution_count": 14,
   "metadata": {},
   "outputs": [
    {
     "data": {
      "text/plain": [
       "0      2020-03-30 23:06:00\n",
       "1      2020-03-30 18:39:00\n",
       "2      2020-03-30 18:09:00\n",
       "3      2020-03-30 15:10:00\n",
       "4      2020-03-30 22:57:00\n",
       "               ...        \n",
       "1947   2020-03-05 17:53:00\n",
       "1948   2020-03-02 19:13:00\n",
       "1949   2020-03-02 10:47:00\n",
       "1950   2020-03-12 15:45:00\n",
       "1951   2020-03-01 21:28:00\n",
       "Name: added_time, Length: 1939, dtype: datetime64[ns]"
      ]
     },
     "execution_count": 14,
     "metadata": {},
     "output_type": "execute_result"
    }
   ],
   "source": [
    "df.added_time"
   ]
  },
  {
   "cell_type": "markdown",
   "metadata": {},
   "source": [
    "# Получим координаты места по адресу через Геокодер Яндекса"
   ]
  },
  {
   "cell_type": "code",
   "execution_count": 15,
   "metadata": {},
   "outputs": [
    {
     "data": {
      "text/plain": [
       "'Санкт-Петербург, Калининский район, муниципальный округ Академическое'"
      ]
     },
     "execution_count": 15,
     "metadata": {},
     "output_type": "execute_result"
    }
   ],
   "source": [
    "import requests\n",
    "import json\n",
    "from secret import API_KEY\n",
    "example = df.iloc[2].address\n",
    "example"
   ]
  },
  {
   "cell_type": "code",
   "execution_count": 16,
   "metadata": {},
   "outputs": [
    {
     "data": {
      "text/plain": [
       "{'response': {'GeoObjectCollection': {'metaDataProperty': {'GeocoderResponseMetaData': {'request': 'Санкт-Петербург, Калининский район, муниципальный округ Академическое',\n",
       "     'results': '10',\n",
       "     'found': '1'}},\n",
       "   'featureMember': [{'GeoObject': {'metaDataProperty': {'GeocoderMetaData': {'precision': 'other',\n",
       "        'text': 'Россия, Санкт-Петербург, Калининский район, муниципальный округ Академическое',\n",
       "        'kind': 'district',\n",
       "        'Address': {'country_code': 'RU',\n",
       "         'formatted': 'Россия, Санкт-Петербург, Калининский район, муниципальный округ Академическое',\n",
       "         'Components': [{'kind': 'country', 'name': 'Россия'},\n",
       "          {'kind': 'province', 'name': 'Северо-Западный федеральный округ'},\n",
       "          {'kind': 'province', 'name': 'Санкт-Петербург'},\n",
       "          {'kind': 'locality', 'name': 'Санкт-Петербург'},\n",
       "          {'kind': 'district', 'name': 'Калининский район'},\n",
       "          {'kind': 'district', 'name': 'муниципальный округ Академическое'}]},\n",
       "        'AddressDetails': {'Country': {'AddressLine': 'Россия, Санкт-Петербург, Калининский район, муниципальный округ Академическое',\n",
       "          'CountryNameCode': 'RU',\n",
       "          'CountryName': 'Россия',\n",
       "          'AdministrativeArea': {'AdministrativeAreaName': 'Санкт-Петербург',\n",
       "           'Locality': {'LocalityName': 'Санкт-Петербург',\n",
       "            'DependentLocality': {'DependentLocalityName': 'Калининский район',\n",
       "             'DependentLocality': {'DependentLocalityName': 'муниципальный округ Академическое'}}}}}}}},\n",
       "      'name': 'муниципальный округ Академическое',\n",
       "      'description': 'Калининский район, Санкт-Петербург, Россия',\n",
       "      'boundedBy': {'Envelope': {'lowerCorner': '30.364826 59.996596',\n",
       "        'upperCorner': '30.41904 60.032133'}},\n",
       "      'Point': {'pos': '30.385721 60.01691'}}}]}}}"
      ]
     },
     "execution_count": 16,
     "metadata": {},
     "output_type": "execute_result"
    }
   ],
   "source": [
    "request = 'https://geocode-maps.yandex.ru/1.x/?format=json&apikey={}&geocode={}'.format(API_KEY, example.replace(' ', '+'))\n",
    "r = requests.get(request)\n",
    "response = json.loads(r.text)\n",
    "response"
   ]
  },
  {
   "cell_type": "code",
   "execution_count": 17,
   "metadata": {},
   "outputs": [],
   "source": [
    "def get_coords(x):\n",
    "    request = 'https://geocode-maps.yandex.ru/1.x/?format=json&apikey={}&geocode={}'.format(API_KEY, x.replace(' ', '+'))\n",
    "    r = requests.get(request)\n",
    "    coords = json.loads(r.text)['response']\n",
    "    coords = coords['GeoObjectCollection']['featureMember'][0]\n",
    "    coords = coords['GeoObject']['Point']['pos']\n",
    "    coords = coords.split()[::-1]\n",
    "    coords = list(map(float, coords))\n",
    "    return coords"
   ]
  },
  {
   "cell_type": "code",
   "execution_count": 18,
   "metadata": {},
   "outputs": [
    {
     "data": {
      "text/plain": [
       "[60.01691, 30.385721]"
      ]
     },
     "execution_count": 18,
     "metadata": {},
     "output_type": "execute_result"
    }
   ],
   "source": [
    "get_coords(example)"
   ]
  },
  {
   "cell_type": "code",
   "execution_count": 19,
   "metadata": {},
   "outputs": [],
   "source": [
    "df['coords'] = df.address.map(get_coords)"
   ]
  },
  {
   "cell_type": "markdown",
   "metadata": {},
   "source": [
    "\"Растащим\" список на две отдельные колонки"
   ]
  },
  {
   "cell_type": "code",
   "execution_count": 20,
   "metadata": {},
   "outputs": [],
   "source": [
    "df[['lat', 'long']] = pd.DataFrame(df.coords.values.tolist(), index=df.index)\n",
    "df = df.drop('coords', 1)"
   ]
  },
  {
   "cell_type": "markdown",
   "metadata": {},
   "source": [
    "Соберем это в отдельную функцию"
   ]
  },
  {
   "cell_type": "code",
   "execution_count": 21,
   "metadata": {},
   "outputs": [],
   "source": [
    "def geocode(df):\n",
    "    def get_coords(x):\n",
    "        request = 'https://geocode-maps.yandex.ru/1.x/?format=json&apikey={}&geocode={}'.format(API_KEY, x.replace(' ', '+'))\n",
    "        r = requests.get(request)\n",
    "        coords = json.loads(r.text)['response']\n",
    "        coords = coords['GeoObjectCollection']['featureMember'][0]\n",
    "        coords = coords['GeoObject']['Point']['pos']\n",
    "        coords = coords.split()[::-1]\n",
    "        coords = list(map(float, coords))\n",
    "        return coords\n",
    "    \n",
    "    df['coords'] = df.address.map(get_coords)\n",
    "    df[['lat', 'long']] = pd.DataFrame(df.coords.values.tolist(), index=df.index)\n",
    "    df = df.drop('coords', 1)\n",
    "    return df"
   ]
  }
 ],
 "metadata": {
  "kernelspec": {
   "display_name": "Python 3",
   "language": "python",
   "name": "python3"
  },
  "language_info": {
   "codemirror_mode": {
    "name": "ipython",
    "version": 3
   },
   "file_extension": ".py",
   "mimetype": "text/x-python",
   "name": "python",
   "nbconvert_exporter": "python",
   "pygments_lexer": "ipython3",
   "version": "3.7.6"
  }
 },
 "nbformat": 4,
 "nbformat_minor": 4
}
