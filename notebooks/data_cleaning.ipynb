{
 "cells": [
  {
   "cell_type": "code",
   "execution_count": 30,
   "metadata": {},
   "outputs": [],
   "source": [
    "import pandas as pd\n",
    "import numpy as np"
   ]
  },
  {
   "cell_type": "code",
   "execution_count": 33,
   "metadata": {},
   "outputs": [
    {
     "data": {
      "text/html": [
       "<div>\n",
       "<style scoped>\n",
       "    .dataframe tbody tr th:only-of-type {\n",
       "        vertical-align: middle;\n",
       "    }\n",
       "\n",
       "    .dataframe tbody tr th {\n",
       "        vertical-align: top;\n",
       "    }\n",
       "\n",
       "    .dataframe thead th {\n",
       "        text-align: right;\n",
       "    }\n",
       "</style>\n",
       "<table border=\"1\" class=\"dataframe\">\n",
       "  <thead>\n",
       "    <tr style=\"text-align: right;\">\n",
       "      <th></th>\n",
       "      <th>price</th>\n",
       "      <th>title</th>\n",
       "      <th>added_time</th>\n",
       "      <th>metro</th>\n",
       "      <th>seller_name</th>\n",
       "      <th>seller_rating</th>\n",
       "      <th>link</th>\n",
       "      <th>parsed_at</th>\n",
       "      <th>address</th>\n",
       "      <th>description</th>\n",
       "      <th>dist_to_metro</th>\n",
       "      <th>seller_review</th>\n",
       "      <th>seller_status</th>\n",
       "      <th>views</th>\n",
       "      <th>geometry</th>\n",
       "    </tr>\n",
       "  </thead>\n",
       "  <tbody>\n",
       "    <tr>\n",
       "      <th>0</th>\n",
       "      <td>1800.0</td>\n",
       "      <td>Доставка свч печей с гарантией Lg 658, Sanyo 7...</td>\n",
       "      <td>2020-03-26T13:18:00</td>\n",
       "      <td>Проспект Ветеранов</td>\n",
       "      <td>Доставка б.у. СВЧ с гарантией</td>\n",
       "      <td>5.0</td>\n",
       "      <td>https://www.avito.ru/sankt-peterburg/bytovaya_...</td>\n",
       "      <td>2020-03-31T02:49:16</td>\n",
       "      <td>Санкт-Петербург, пр-т Ветеранов, 24</td>\n",
       "      <td>ПРЕДОПЛАТА ПО КАРТЕ- ПРИЗНАК МОШЕННИЧЕСТВАПриё...</td>\n",
       "      <td>400.0</td>\n",
       "      <td>27.0</td>\n",
       "      <td>Компания</td>\n",
       "      <td>1508.0</td>\n",
       "      <td>None</td>\n",
       "    </tr>\n",
       "    <tr>\n",
       "      <th>1</th>\n",
       "      <td>2990.0</td>\n",
       "      <td>Микроволновая печь</td>\n",
       "      <td>2020-03-25T10:47:00</td>\n",
       "      <td>Волковская</td>\n",
       "      <td>Анатолий</td>\n",
       "      <td>NaN</td>\n",
       "      <td>https://www.avito.ru/sankt-peterburg/bytovaya_...</td>\n",
       "      <td>2020-03-31T02:49:18</td>\n",
       "      <td>Санкт-Петербург, ул. Салова, 27АД</td>\n",
       "      <td>Микроволновая печь LG Мощность 700 ВтОбъём 19 ...</td>\n",
       "      <td>800.0</td>\n",
       "      <td>0.0</td>\n",
       "      <td>Частное лицо</td>\n",
       "      <td>33.0</td>\n",
       "      <td>None</td>\n",
       "    </tr>\n",
       "    <tr>\n",
       "      <th>2</th>\n",
       "      <td>500.0</td>\n",
       "      <td>Микроволновая печь SAMSUNG. Микроволновка</td>\n",
       "      <td>2020-03-31T02:05:00</td>\n",
       "      <td>Ладожская</td>\n",
       "      <td>Саша</td>\n",
       "      <td>NaN</td>\n",
       "      <td>https://www.avito.ru/sankt-peterburg/bytovaya_...</td>\n",
       "      <td>2020-03-31T02:49:20</td>\n",
       "      <td>Санкт-Петербург, Заневский пр-т, 69</td>\n",
       "      <td>Крутая рабочая микроволновка. Всё работает. Пр...</td>\n",
       "      <td>NaN</td>\n",
       "      <td>0.0</td>\n",
       "      <td>Частное лицо</td>\n",
       "      <td>1.0</td>\n",
       "      <td>None</td>\n",
       "    </tr>\n",
       "    <tr>\n",
       "      <th>3</th>\n",
       "      <td>1500.0</td>\n",
       "      <td>Moulinex Faciclic glass мотор</td>\n",
       "      <td>2020-03-31T00:56:00</td>\n",
       "      <td>Чернышевская</td>\n",
       "      <td>Марина</td>\n",
       "      <td>5.0</td>\n",
       "      <td>https://www.avito.ru/sankt-peterburg/bytovaya_...</td>\n",
       "      <td>2020-03-31T02:49:21</td>\n",
       "      <td>Санкт-Петербург</td>\n",
       "      <td>Продаю мотор с ножом и крышку от блендера Moul...</td>\n",
       "      <td>NaN</td>\n",
       "      <td>1.0</td>\n",
       "      <td>Частное лицо</td>\n",
       "      <td>1.0</td>\n",
       "      <td>None</td>\n",
       "    </tr>\n",
       "    <tr>\n",
       "      <th>4</th>\n",
       "      <td>2000.0</td>\n",
       "      <td>Микроволновая печь Supra</td>\n",
       "      <td>2020-03-31T00:50:00</td>\n",
       "      <td>Площадь Мужества</td>\n",
       "      <td>1</td>\n",
       "      <td>NaN</td>\n",
       "      <td>https://www.avito.ru/sankt-peterburg/bytovaya_...</td>\n",
       "      <td>2020-03-31T02:49:23</td>\n",
       "      <td>Санкт-Петербург, Кушелевская дорога</td>\n",
       "      <td>Хорошая и чистая!! микроволновка в отличном со...</td>\n",
       "      <td>1200.0</td>\n",
       "      <td>0.0</td>\n",
       "      <td>Компания</td>\n",
       "      <td>1.0</td>\n",
       "      <td>None</td>\n",
       "    </tr>\n",
       "    <tr>\n",
       "      <th>...</th>\n",
       "      <td>...</td>\n",
       "      <td>...</td>\n",
       "      <td>...</td>\n",
       "      <td>...</td>\n",
       "      <td>...</td>\n",
       "      <td>...</td>\n",
       "      <td>...</td>\n",
       "      <td>...</td>\n",
       "      <td>...</td>\n",
       "      <td>...</td>\n",
       "      <td>...</td>\n",
       "      <td>...</td>\n",
       "      <td>...</td>\n",
       "      <td>...</td>\n",
       "      <td>...</td>\n",
       "    </tr>\n",
       "    <tr>\n",
       "      <th>1257</th>\n",
       "      <td>2300.0</td>\n",
       "      <td>Микроволновая печь</td>\n",
       "      <td>2020-03-01T10:55:00</td>\n",
       "      <td>Купчино</td>\n",
       "      <td>андрей</td>\n",
       "      <td>5.0</td>\n",
       "      <td>https://www.avito.ru/sankt-peterburg/bytovaya_...</td>\n",
       "      <td>2020-03-31T03:40:32</td>\n",
       "      <td>Санкт-Петербург, Купчинская ул., 9к1</td>\n",
       "      <td>Небольшая, чистая, довольно мощная микроволнов...</td>\n",
       "      <td>1500.0</td>\n",
       "      <td>4.0</td>\n",
       "      <td>Частное лицо</td>\n",
       "      <td>1827.0</td>\n",
       "      <td>None</td>\n",
       "    </tr>\n",
       "    <tr>\n",
       "      <th>1258</th>\n",
       "      <td>2000.0</td>\n",
       "      <td>Микроволновая печь Panasonic</td>\n",
       "      <td>2020-03-01T10:15:00</td>\n",
       "      <td>Международная</td>\n",
       "      <td>Диана</td>\n",
       "      <td>5.0</td>\n",
       "      <td>https://www.avito.ru/sankt-peterburg/bytovaya_...</td>\n",
       "      <td>2020-03-31T03:40:34</td>\n",
       "      <td>Санкт-Петербург</td>\n",
       "      <td>Все работает .</td>\n",
       "      <td>NaN</td>\n",
       "      <td>1.0</td>\n",
       "      <td>Частное лицо</td>\n",
       "      <td>255.0</td>\n",
       "      <td>None</td>\n",
       "    </tr>\n",
       "    <tr>\n",
       "      <th>1259</th>\n",
       "      <td>2500.0</td>\n",
       "      <td>Микроволновка Panasonic</td>\n",
       "      <td>2020-03-01T09:51:00</td>\n",
       "      <td>Горьковская</td>\n",
       "      <td>Сергей</td>\n",
       "      <td>5.0</td>\n",
       "      <td>https://www.avito.ru/sankt-peterburg/bytovaya_...</td>\n",
       "      <td>2020-03-31T03:40:36</td>\n",
       "      <td>Санкт-Петербург, ул. Куйбышева, 9/8</td>\n",
       "      <td>В хорошем состоянии класса А</td>\n",
       "      <td>500.0</td>\n",
       "      <td>1.0</td>\n",
       "      <td>Компания</td>\n",
       "      <td>165.0</td>\n",
       "      <td>None</td>\n",
       "    </tr>\n",
       "    <tr>\n",
       "      <th>1260</th>\n",
       "      <td>4000.0</td>\n",
       "      <td>Микровалновая печь Lg(mс194a.800vт.без гриля)</td>\n",
       "      <td>2020-03-01T09:44:00</td>\n",
       "      <td>Московская</td>\n",
       "      <td>Андрей</td>\n",
       "      <td>5.0</td>\n",
       "      <td>https://www.avito.ru/sankt-peterburg/bytovaya_...</td>\n",
       "      <td>2020-03-31T03:40:38</td>\n",
       "      <td>Санкт-Петербург, 5-й Предпортовый пр., 4к3</td>\n",
       "      <td>Продам микровалновку идиальное состояние!!!(cм...</td>\n",
       "      <td>1100.0</td>\n",
       "      <td>2.0</td>\n",
       "      <td>Частное лицо</td>\n",
       "      <td>614.0</td>\n",
       "      <td>None</td>\n",
       "    </tr>\n",
       "    <tr>\n",
       "      <th>1261</th>\n",
       "      <td>3000.0</td>\n",
       "      <td>Микроволновка SAMSUNG</td>\n",
       "      <td>2020-03-31T03:17:00</td>\n",
       "      <td>Площадь Мужества</td>\n",
       "      <td>Артем Кружалов</td>\n",
       "      <td>NaN</td>\n",
       "      <td>https://www.avito.ru/sankt-peterburg/bytovaya_...</td>\n",
       "      <td>2020-03-31T04:57:08</td>\n",
       "      <td>Санкт-Петербург, Богословская ул., 4к4</td>\n",
       "      <td>Микроволновка в идеальном состоянии, продажа с...</td>\n",
       "      <td>1700.0</td>\n",
       "      <td>0.0</td>\n",
       "      <td>Частное лицо</td>\n",
       "      <td>304.0</td>\n",
       "      <td>None</td>\n",
       "    </tr>\n",
       "  </tbody>\n",
       "</table>\n",
       "<p>1262 rows × 15 columns</p>\n",
       "</div>"
      ],
      "text/plain": [
       "       price                                              title  \\\n",
       "0     1800.0  Доставка свч печей с гарантией Lg 658, Sanyo 7...   \n",
       "1     2990.0                                 Микроволновая печь   \n",
       "2      500.0          Микроволновая печь SAMSUNG. Микроволновка   \n",
       "3     1500.0                      Moulinex Faciclic glass мотор   \n",
       "4     2000.0                           Микроволновая печь Supra   \n",
       "...      ...                                                ...   \n",
       "1257  2300.0                                 Микроволновая печь   \n",
       "1258  2000.0                       Микроволновая печь Panasonic   \n",
       "1259  2500.0                            Микроволновка Panasonic   \n",
       "1260  4000.0      Микровалновая печь Lg(mс194a.800vт.без гриля)   \n",
       "1261  3000.0                              Микроволновка SAMSUNG   \n",
       "\n",
       "               added_time               metro                    seller_name  \\\n",
       "0     2020-03-26T13:18:00  Проспект Ветеранов  Доставка б.у. СВЧ с гарантией   \n",
       "1     2020-03-25T10:47:00          Волковская                       Анатолий   \n",
       "2     2020-03-31T02:05:00           Ладожская                           Саша   \n",
       "3     2020-03-31T00:56:00        Чернышевская                         Марина   \n",
       "4     2020-03-31T00:50:00    Площадь Мужества                              1   \n",
       "...                   ...                 ...                            ...   \n",
       "1257  2020-03-01T10:55:00             Купчино                         андрей   \n",
       "1258  2020-03-01T10:15:00       Международная                          Диана   \n",
       "1259  2020-03-01T09:51:00         Горьковская                         Сергей   \n",
       "1260  2020-03-01T09:44:00          Московская                         Андрей   \n",
       "1261  2020-03-31T03:17:00    Площадь Мужества                 Артем Кружалов   \n",
       "\n",
       "      seller_rating                                               link  \\\n",
       "0               5.0  https://www.avito.ru/sankt-peterburg/bytovaya_...   \n",
       "1               NaN  https://www.avito.ru/sankt-peterburg/bytovaya_...   \n",
       "2               NaN  https://www.avito.ru/sankt-peterburg/bytovaya_...   \n",
       "3               5.0  https://www.avito.ru/sankt-peterburg/bytovaya_...   \n",
       "4               NaN  https://www.avito.ru/sankt-peterburg/bytovaya_...   \n",
       "...             ...                                                ...   \n",
       "1257            5.0  https://www.avito.ru/sankt-peterburg/bytovaya_...   \n",
       "1258            5.0  https://www.avito.ru/sankt-peterburg/bytovaya_...   \n",
       "1259            5.0  https://www.avito.ru/sankt-peterburg/bytovaya_...   \n",
       "1260            5.0  https://www.avito.ru/sankt-peterburg/bytovaya_...   \n",
       "1261            NaN  https://www.avito.ru/sankt-peterburg/bytovaya_...   \n",
       "\n",
       "                parsed_at                                     address  \\\n",
       "0     2020-03-31T02:49:16         Санкт-Петербург, пр-т Ветеранов, 24   \n",
       "1     2020-03-31T02:49:18           Санкт-Петербург, ул. Салова, 27АД   \n",
       "2     2020-03-31T02:49:20         Санкт-Петербург, Заневский пр-т, 69   \n",
       "3     2020-03-31T02:49:21                             Санкт-Петербург   \n",
       "4     2020-03-31T02:49:23         Санкт-Петербург, Кушелевская дорога   \n",
       "...                   ...                                         ...   \n",
       "1257  2020-03-31T03:40:32        Санкт-Петербург, Купчинская ул., 9к1   \n",
       "1258  2020-03-31T03:40:34                             Санкт-Петербург   \n",
       "1259  2020-03-31T03:40:36         Санкт-Петербург, ул. Куйбышева, 9/8   \n",
       "1260  2020-03-31T03:40:38  Санкт-Петербург, 5-й Предпортовый пр., 4к3   \n",
       "1261  2020-03-31T04:57:08      Санкт-Петербург, Богословская ул., 4к4   \n",
       "\n",
       "                                            description  dist_to_metro  \\\n",
       "0     ПРЕДОПЛАТА ПО КАРТЕ- ПРИЗНАК МОШЕННИЧЕСТВАПриё...          400.0   \n",
       "1     Микроволновая печь LG Мощность 700 ВтОбъём 19 ...          800.0   \n",
       "2     Крутая рабочая микроволновка. Всё работает. Пр...            NaN   \n",
       "3     Продаю мотор с ножом и крышку от блендера Moul...            NaN   \n",
       "4     Хорошая и чистая!! микроволновка в отличном со...         1200.0   \n",
       "...                                                 ...            ...   \n",
       "1257  Небольшая, чистая, довольно мощная микроволнов...         1500.0   \n",
       "1258                                     Все работает .            NaN   \n",
       "1259                       В хорошем состоянии класса А          500.0   \n",
       "1260  Продам микровалновку идиальное состояние!!!(cм...         1100.0   \n",
       "1261  Микроволновка в идеальном состоянии, продажа с...         1700.0   \n",
       "\n",
       "      seller_review seller_status   views geometry  \n",
       "0              27.0      Компания  1508.0     None  \n",
       "1               0.0  Частное лицо    33.0     None  \n",
       "2               0.0  Частное лицо     1.0     None  \n",
       "3               1.0  Частное лицо     1.0     None  \n",
       "4               0.0      Компания     1.0     None  \n",
       "...             ...           ...     ...      ...  \n",
       "1257            4.0  Частное лицо  1827.0     None  \n",
       "1258            1.0  Частное лицо   255.0     None  \n",
       "1259            1.0      Компания   165.0     None  \n",
       "1260            2.0  Частное лицо   614.0     None  \n",
       "1261            0.0  Частное лицо   304.0     None  \n",
       "\n",
       "[1262 rows x 15 columns]"
      ]
     },
     "execution_count": 33,
     "metadata": {},
     "output_type": "execute_result"
    }
   ],
   "source": [
    "gpd.read_file('data/microwave/microwave.gpkg')"
   ]
  },
  {
   "cell_type": "code",
   "execution_count": 32,
   "metadata": {},
   "outputs": [
    {
     "data": {
      "text/html": [
       "<div>\n",
       "<style scoped>\n",
       "    .dataframe tbody tr th:only-of-type {\n",
       "        vertical-align: middle;\n",
       "    }\n",
       "\n",
       "    .dataframe tbody tr th {\n",
       "        vertical-align: top;\n",
       "    }\n",
       "\n",
       "    .dataframe thead th {\n",
       "        text-align: right;\n",
       "    }\n",
       "</style>\n",
       "<table border=\"1\" class=\"dataframe\">\n",
       "  <thead>\n",
       "    <tr style=\"text-align: right;\">\n",
       "      <th></th>\n",
       "      <th>price</th>\n",
       "      <th>title</th>\n",
       "      <th>added_time</th>\n",
       "      <th>metro</th>\n",
       "      <th>seller_name</th>\n",
       "      <th>seller_rating</th>\n",
       "      <th>link</th>\n",
       "      <th>parsed_at</th>\n",
       "      <th>address</th>\n",
       "      <th>description</th>\n",
       "      <th>dist_to_metro</th>\n",
       "      <th>seller_review</th>\n",
       "      <th>seller_status</th>\n",
       "      <th>views</th>\n",
       "    </tr>\n",
       "  </thead>\n",
       "  <tbody>\n",
       "    <tr>\n",
       "      <th>0</th>\n",
       "      <td>1800.0</td>\n",
       "      <td>Доставка свч печей с гарантией Lg 658, Sanyo 7...</td>\n",
       "      <td>26 марта в 13:18</td>\n",
       "      <td>Проспект Ветеранов</td>\n",
       "      <td>Доставка б.у. СВЧ с гарантией</td>\n",
       "      <td>5.0</td>\n",
       "      <td>https://www.avito.ru/sankt-peterburg/bytovaya_...</td>\n",
       "      <td>2020-03-31 02:49:16.938293</td>\n",
       "      <td>Санкт-Петербург, пр-т Ветеранов, 24</td>\n",
       "      <td>ПРЕДОПЛАТА ПО КАРТЕ- ПРИЗНАК МОШЕННИЧЕСТВАПриё...</td>\n",
       "      <td>400 м</td>\n",
       "      <td>27.0</td>\n",
       "      <td>Компания</td>\n",
       "      <td>1508.0</td>\n",
       "    </tr>\n",
       "    <tr>\n",
       "      <th>1</th>\n",
       "      <td>2990.0</td>\n",
       "      <td>Микроволновая печь</td>\n",
       "      <td>25 марта в 10:47</td>\n",
       "      <td>Волковская</td>\n",
       "      <td>Анатолий</td>\n",
       "      <td>NaN</td>\n",
       "      <td>https://www.avito.ru/sankt-peterburg/bytovaya_...</td>\n",
       "      <td>2020-03-31 02:49:18.636017</td>\n",
       "      <td>Санкт-Петербург, ул. Салова, 27АД</td>\n",
       "      <td>Микроволновая печь LG Мощность 700 ВтОбъём 19 ...</td>\n",
       "      <td>800 м</td>\n",
       "      <td>0.0</td>\n",
       "      <td>Частное лицо</td>\n",
       "      <td>33.0</td>\n",
       "    </tr>\n",
       "    <tr>\n",
       "      <th>2</th>\n",
       "      <td>500.0</td>\n",
       "      <td>Микроволновая печь SAMSUNG. Микроволновка</td>\n",
       "      <td>сегодня в 02:05</td>\n",
       "      <td>Ладожская</td>\n",
       "      <td>Саша</td>\n",
       "      <td>NaN</td>\n",
       "      <td>https://www.avito.ru/sankt-peterburg/bytovaya_...</td>\n",
       "      <td>2020-03-31 02:49:20.241951</td>\n",
       "      <td>Санкт-Петербург, Заневский пр-т, 69</td>\n",
       "      <td>Крутая рабочая микроволновка. Всё работает. Пр...</td>\n",
       "      <td>NaN</td>\n",
       "      <td>0.0</td>\n",
       "      <td>Частное лицо</td>\n",
       "      <td>1.0</td>\n",
       "    </tr>\n",
       "    <tr>\n",
       "      <th>3</th>\n",
       "      <td>1500.0</td>\n",
       "      <td>Moulinex Faciclic glass мотор</td>\n",
       "      <td>сегодня в 00:56</td>\n",
       "      <td>Чернышевская</td>\n",
       "      <td>Марина</td>\n",
       "      <td>5.0</td>\n",
       "      <td>https://www.avito.ru/sankt-peterburg/bytovaya_...</td>\n",
       "      <td>2020-03-31 02:49:21.845578</td>\n",
       "      <td>Санкт-Петербург</td>\n",
       "      <td>Продаю мотор с ножом и крышку от блендера Moul...</td>\n",
       "      <td>NaN</td>\n",
       "      <td>1.0</td>\n",
       "      <td>Частное лицо</td>\n",
       "      <td>1.0</td>\n",
       "    </tr>\n",
       "    <tr>\n",
       "      <th>4</th>\n",
       "      <td>2000.0</td>\n",
       "      <td>Микроволновая печь Supra</td>\n",
       "      <td>сегодня в 00:50</td>\n",
       "      <td>Площадь Мужества</td>\n",
       "      <td>1</td>\n",
       "      <td>NaN</td>\n",
       "      <td>https://www.avito.ru/sankt-peterburg/bytovaya_...</td>\n",
       "      <td>2020-03-31 02:49:23.108644</td>\n",
       "      <td>Санкт-Петербург, Кушелевская дорога</td>\n",
       "      <td>Хорошая и чистая!! микроволновка в отличном со...</td>\n",
       "      <td>1,2 км</td>\n",
       "      <td>0.0</td>\n",
       "      <td>Компания</td>\n",
       "      <td>1.0</td>\n",
       "    </tr>\n",
       "  </tbody>\n",
       "</table>\n",
       "</div>"
      ],
      "text/plain": [
       "    price                                              title  \\\n",
       "0  1800.0  Доставка свч печей с гарантией Lg 658, Sanyo 7...   \n",
       "1  2990.0                                 Микроволновая печь   \n",
       "2   500.0          Микроволновая печь SAMSUNG. Микроволновка   \n",
       "3  1500.0                      Moulinex Faciclic glass мотор   \n",
       "4  2000.0                           Микроволновая печь Supra   \n",
       "\n",
       "         added_time               metro                    seller_name  \\\n",
       "0  26 марта в 13:18  Проспект Ветеранов  Доставка б.у. СВЧ с гарантией   \n",
       "1  25 марта в 10:47          Волковская                       Анатолий   \n",
       "2   сегодня в 02:05           Ладожская                           Саша   \n",
       "3   сегодня в 00:56        Чернышевская                         Марина   \n",
       "4   сегодня в 00:50    Площадь Мужества                              1   \n",
       "\n",
       "   seller_rating                                               link  \\\n",
       "0            5.0  https://www.avito.ru/sankt-peterburg/bytovaya_...   \n",
       "1            NaN  https://www.avito.ru/sankt-peterburg/bytovaya_...   \n",
       "2            NaN  https://www.avito.ru/sankt-peterburg/bytovaya_...   \n",
       "3            5.0  https://www.avito.ru/sankt-peterburg/bytovaya_...   \n",
       "4            NaN  https://www.avito.ru/sankt-peterburg/bytovaya_...   \n",
       "\n",
       "                    parsed_at                              address  \\\n",
       "0  2020-03-31 02:49:16.938293  Санкт-Петербург, пр-т Ветеранов, 24   \n",
       "1  2020-03-31 02:49:18.636017    Санкт-Петербург, ул. Салова, 27АД   \n",
       "2  2020-03-31 02:49:20.241951  Санкт-Петербург, Заневский пр-т, 69   \n",
       "3  2020-03-31 02:49:21.845578                      Санкт-Петербург   \n",
       "4  2020-03-31 02:49:23.108644  Санкт-Петербург, Кушелевская дорога   \n",
       "\n",
       "                                         description dist_to_metro  \\\n",
       "0  ПРЕДОПЛАТА ПО КАРТЕ- ПРИЗНАК МОШЕННИЧЕСТВАПриё...         400 м   \n",
       "1  Микроволновая печь LG Мощность 700 ВтОбъём 19 ...         800 м   \n",
       "2  Крутая рабочая микроволновка. Всё работает. Пр...           NaN   \n",
       "3  Продаю мотор с ножом и крышку от блендера Moul...           NaN   \n",
       "4  Хорошая и чистая!! микроволновка в отличном со...        1,2 км   \n",
       "\n",
       "   seller_review seller_status   views  \n",
       "0           27.0      Компания  1508.0  \n",
       "1            0.0  Частное лицо    33.0  \n",
       "2            0.0  Частное лицо     1.0  \n",
       "3            1.0  Частное лицо     1.0  \n",
       "4            0.0      Компания     1.0  "
      ]
     },
     "execution_count": 32,
     "metadata": {},
     "output_type": "execute_result"
    }
   ],
   "source": [
    "df = pd.read_csv('data/microwave/microwave.csv')\n",
    "df.head()"
   ]
  },
  {
   "cell_type": "markdown",
   "metadata": {},
   "source": [
    "Переведем столбец ```parsed_at``` в *datetime-object*"
   ]
  },
  {
   "cell_type": "code",
   "execution_count": 24,
   "metadata": {},
   "outputs": [
    {
     "name": "stdout",
     "output_type": "stream",
     "text": [
      "<class 'geopandas.geodataframe.GeoDataFrame'>\n",
      "RangeIndex: 1309 entries, 0 to 1308\n",
      "Data columns (total 15 columns):\n",
      " #   Column         Non-Null Count  Dtype         \n",
      "---  ------         --------------  -----         \n",
      " 0   price          1309 non-null   object        \n",
      " 1   title          1309 non-null   object        \n",
      " 2   added_time     1309 non-null   object        \n",
      " 3   metro          1309 non-null   object        \n",
      " 4   seller_name    1309 non-null   object        \n",
      " 5   seller_rating  1309 non-null   object        \n",
      " 6   link           1309 non-null   object        \n",
      " 7   parsed_at      1309 non-null   datetime64[ns]\n",
      " 8   address        1309 non-null   object        \n",
      " 9   description    1309 non-null   object        \n",
      " 10  dist_to_metro  1309 non-null   object        \n",
      " 11  seller_review  1309 non-null   object        \n",
      " 12  seller_status  1309 non-null   object        \n",
      " 13  views          1309 non-null   object        \n",
      " 14  geometry       0 non-null      geometry      \n",
      "dtypes: datetime64[ns](1), geometry(1), object(13)\n",
      "memory usage: 153.5+ KB\n"
     ]
    }
   ],
   "source": [
    "df['parsed_at'] = pd.to_datetime(df['parsed_at'])\n",
    "df.info()"
   ]
  },
  {
   "cell_type": "markdown",
   "metadata": {},
   "source": [
    "# Посмотрим на NaN"
   ]
  },
  {
   "cell_type": "code",
   "execution_count": 25,
   "metadata": {},
   "outputs": [
    {
     "data": {
      "text/plain": [
       "price               0\n",
       "title               0\n",
       "added_time          0\n",
       "metro               0\n",
       "seller_name         0\n",
       "seller_rating       0\n",
       "link                0\n",
       "parsed_at           0\n",
       "address             0\n",
       "description         0\n",
       "dist_to_metro       0\n",
       "seller_review       0\n",
       "seller_status       0\n",
       "views               0\n",
       "geometry         1309\n",
       "dtype: int64"
      ]
     },
     "execution_count": 25,
     "metadata": {},
     "output_type": "execute_result"
    }
   ],
   "source": [
    "df.isna().sum()"
   ]
  },
  {
   "cell_type": "markdown",
   "metadata": {},
   "source": [
    "Удалим все записи, в которых нет цены"
   ]
  },
  {
   "cell_type": "code",
   "execution_count": 6,
   "metadata": {},
   "outputs": [],
   "source": [
    "df = df[df['price'].notna()]"
   ]
  },
  {
   "cell_type": "code",
   "execution_count": 7,
   "metadata": {},
   "outputs": [
    {
     "data": {
      "text/plain": [
       "price              0\n",
       "title              0\n",
       "added_time         0\n",
       "metro            164\n",
       "seller_name        0\n",
       "seller_rating    519\n",
       "link               0\n",
       "parsed_at          0\n",
       "address            0\n",
       "description        0\n",
       "dist_to_metro    384\n",
       "seller_review      0\n",
       "seller_status      0\n",
       "views              0\n",
       "dtype: int64"
      ]
     },
     "execution_count": 7,
     "metadata": {},
     "output_type": "execute_result"
    }
   ],
   "source": [
    "df.isna().sum()"
   ]
  },
  {
   "cell_type": "markdown",
   "metadata": {},
   "source": [
    "Теперь NaN-ов в важных столбцах нет. Ближайшее метро и расстояние до него можно будет получить через API Яндекса, а на рейтинг продавца можно не обращать особого внимания."
   ]
  },
  {
   "cell_type": "markdown",
   "metadata": {},
   "source": [
    "# Избавимся от объявлений, продающих неисправные холодильники или запчасти для них \n",
    "Профильтруем датафрейм по списку слов в заголовке. Потом можно будет сделать более продвинутый алгоритм, который будет работать с описанием товара.  \n",
    "Функция будет принимать текстовый файл со списком запрещенных слов."
   ]
  },
  {
   "cell_type": "code",
   "execution_count": 8,
   "metadata": {},
   "outputs": [],
   "source": [
    "def filter_df(df, filter_file):\n",
    "    with open(filter_file, 'r', encoding='utf-8') as f:\n",
    "        filter_words = f.readlines()\n",
    "    return df[~df.title.str.lower().str.contains('|'.join(filter_words))]"
   ]
  },
  {
   "cell_type": "code",
   "execution_count": 9,
   "metadata": {},
   "outputs": [
    {
     "data": {
      "text/html": [
       "<div>\n",
       "<style scoped>\n",
       "    .dataframe tbody tr th:only-of-type {\n",
       "        vertical-align: middle;\n",
       "    }\n",
       "\n",
       "    .dataframe tbody tr th {\n",
       "        vertical-align: top;\n",
       "    }\n",
       "\n",
       "    .dataframe thead th {\n",
       "        text-align: right;\n",
       "    }\n",
       "</style>\n",
       "<table border=\"1\" class=\"dataframe\">\n",
       "  <thead>\n",
       "    <tr style=\"text-align: right;\">\n",
       "      <th></th>\n",
       "      <th>count</th>\n",
       "      <th>mean</th>\n",
       "      <th>std</th>\n",
       "      <th>min</th>\n",
       "      <th>25%</th>\n",
       "      <th>50%</th>\n",
       "      <th>75%</th>\n",
       "      <th>max</th>\n",
       "    </tr>\n",
       "  </thead>\n",
       "  <tbody>\n",
       "    <tr>\n",
       "      <th>price</th>\n",
       "      <td>1256.0</td>\n",
       "      <td>1680.601115</td>\n",
       "      <td>1242.546649</td>\n",
       "      <td>1.0</td>\n",
       "      <td>500.0</td>\n",
       "      <td>1500.0</td>\n",
       "      <td>2612.50</td>\n",
       "      <td>4500.0</td>\n",
       "    </tr>\n",
       "    <tr>\n",
       "      <th>seller_rating</th>\n",
       "      <td>737.0</td>\n",
       "      <td>4.626052</td>\n",
       "      <td>0.884759</td>\n",
       "      <td>1.0</td>\n",
       "      <td>4.8</td>\n",
       "      <td>5.0</td>\n",
       "      <td>5.00</td>\n",
       "      <td>5.0</td>\n",
       "    </tr>\n",
       "    <tr>\n",
       "      <th>seller_review</th>\n",
       "      <td>1256.0</td>\n",
       "      <td>4.528662</td>\n",
       "      <td>9.114192</td>\n",
       "      <td>0.0</td>\n",
       "      <td>0.0</td>\n",
       "      <td>1.0</td>\n",
       "      <td>5.00</td>\n",
       "      <td>128.0</td>\n",
       "    </tr>\n",
       "    <tr>\n",
       "      <th>views</th>\n",
       "      <td>1256.0</td>\n",
       "      <td>604.907643</td>\n",
       "      <td>1835.714697</td>\n",
       "      <td>1.0</td>\n",
       "      <td>45.0</td>\n",
       "      <td>159.0</td>\n",
       "      <td>523.25</td>\n",
       "      <td>34730.0</td>\n",
       "    </tr>\n",
       "  </tbody>\n",
       "</table>\n",
       "</div>"
      ],
      "text/plain": [
       "                count         mean          std  min    25%     50%      75%  \\\n",
       "price          1256.0  1680.601115  1242.546649  1.0  500.0  1500.0  2612.50   \n",
       "seller_rating   737.0     4.626052     0.884759  1.0    4.8     5.0     5.00   \n",
       "seller_review  1256.0     4.528662     9.114192  0.0    0.0     1.0     5.00   \n",
       "views          1256.0   604.907643  1835.714697  1.0   45.0   159.0   523.25   \n",
       "\n",
       "                   max  \n",
       "price           4500.0  \n",
       "seller_rating      5.0  \n",
       "seller_review    128.0  \n",
       "views          34730.0  "
      ]
     },
     "execution_count": 9,
     "metadata": {},
     "output_type": "execute_result"
    }
   ],
   "source": [
    "df = filter_df(df, 'data/fridge/fridge_filter.txt')\n",
    "df.describe().transpose()"
   ]
  },
  {
   "cell_type": "markdown",
   "metadata": {},
   "source": [
    "# Переведем строки в более удобные форматы\n",
    "## Переведем столбец *dist_to_metro*"
   ]
  },
  {
   "cell_type": "code",
   "execution_count": 10,
   "metadata": {},
   "outputs": [],
   "source": [
    "def dist_to_float(x):\n",
    "    if type(x) != str:\n",
    "        return x\n",
    "    dist, unit = x.split()\n",
    "    dist = dist.replace(',', '.')\n",
    "    dist = float(dist)\n",
    "    if unit == 'км':\n",
    "        dist *= 1000\n",
    "    return dist\n",
    "df['dist_to_metro'] = df['dist_to_metro'].map(dist_to_float)"
   ]
  },
  {
   "cell_type": "code",
   "execution_count": 11,
   "metadata": {},
   "outputs": [
    {
     "data": {
      "text/plain": [
       "count     872.000000\n",
       "mean     1207.683486\n",
       "std      1094.773368\n",
       "min       100.000000\n",
       "25%       500.000000\n",
       "50%       900.000000\n",
       "75%      1500.000000\n",
       "max      8500.000000\n",
       "Name: dist_to_metro, dtype: float64"
      ]
     },
     "execution_count": 11,
     "metadata": {},
     "output_type": "execute_result"
    }
   ],
   "source": [
    "df.dist_to_metro.describe()"
   ]
  },
  {
   "cell_type": "markdown",
   "metadata": {},
   "source": [
    "## Переведем столбец *added_time*"
   ]
  },
  {
   "cell_type": "code",
   "execution_count": 12,
   "metadata": {},
   "outputs": [
    {
     "data": {
      "text/plain": [
       "True    1256\n",
       "Name: added_time, dtype: int64"
      ]
     },
     "execution_count": 12,
     "metadata": {},
     "output_type": "execute_result"
    }
   ],
   "source": [
    "df.added_time.str.contains(' в ').value_counts()"
   ]
  },
  {
   "cell_type": "markdown",
   "metadata": {},
   "source": [
    "Каждая запись имеет ```' в '``` внутри. Значит, мы сможем безопасно разделить стринг по этому токену"
   ]
  },
  {
   "cell_type": "code",
   "execution_count": 13,
   "metadata": {},
   "outputs": [],
   "source": [
    "from datetime import datetime, timedelta\n",
    "\n",
    "def str_to_datetime(string_date, parsed_at):\n",
    "    date, time = string_date.split(' в ')\n",
    "    hour, minute = list(map(int, time.split(':')))\n",
    "    if date == 'вчера':\n",
    "        yesterday = parsed_at - timedelta(days=1)\n",
    "        day = yesterday.day\n",
    "        month = yesterday.month\n",
    "    elif date == 'сегодня':\n",
    "        day = parsed_at.day\n",
    "        month = parsed_at.month\n",
    "    else:\n",
    "        ru_to_num = {\n",
    "            'января':1,\n",
    "            'февраля':2,\n",
    "            'марта':3,\n",
    "            'апреля':4,\n",
    "            'мая':5,\n",
    "            'июня':6,\n",
    "            'июля':7,\n",
    "            'августа':8,\n",
    "            'сентября':9,\n",
    "            'октября':10,\n",
    "            'ноября':11,\n",
    "            'декабря':12,\n",
    "        }\n",
    "        day, month = date.split()\n",
    "        day = int(day)\n",
    "        month = ru_to_num[month]\n",
    "    return datetime(2020, month, day, hour, minute) "
   ]
  },
  {
   "cell_type": "code",
   "execution_count": 14,
   "metadata": {},
   "outputs": [],
   "source": [
    "df['added_time'] = df.apply(lambda x: str_to_datetime(x['added_time'], x['parsed_at']), axis=1)"
   ]
  },
  {
   "cell_type": "code",
   "execution_count": 15,
   "metadata": {},
   "outputs": [
    {
     "data": {
      "text/plain": [
       "0      2020-03-26 13:18:00\n",
       "1      2020-03-25 10:47:00\n",
       "2      2020-03-31 02:05:00\n",
       "3      2020-03-31 00:56:00\n",
       "4      2020-03-31 00:50:00\n",
       "               ...        \n",
       "1304   2020-03-01 10:55:00\n",
       "1305   2020-03-01 10:15:00\n",
       "1306   2020-03-01 09:51:00\n",
       "1307   2020-03-01 09:44:00\n",
       "1308   2020-03-31 03:17:00\n",
       "Name: added_time, Length: 1256, dtype: datetime64[ns]"
      ]
     },
     "execution_count": 15,
     "metadata": {},
     "output_type": "execute_result"
    }
   ],
   "source": [
    "df.added_time"
   ]
  },
  {
   "cell_type": "markdown",
   "metadata": {},
   "source": [
    "# Получим координаты места по адресу через Геокодер Яндекса"
   ]
  },
  {
   "cell_type": "code",
   "execution_count": 15,
   "metadata": {},
   "outputs": [
    {
     "data": {
      "text/plain": [
       "'Санкт-Петербург, Калининский район, муниципальный округ Академическое'"
      ]
     },
     "execution_count": 15,
     "metadata": {},
     "output_type": "execute_result"
    }
   ],
   "source": [
    "import requests\n",
    "import json\n",
    "from secret import API_KEY\n",
    "example = df.iloc[2].address\n",
    "example"
   ]
  },
  {
   "cell_type": "code",
   "execution_count": 16,
   "metadata": {},
   "outputs": [
    {
     "data": {
      "text/plain": [
       "{'response': {'GeoObjectCollection': {'metaDataProperty': {'GeocoderResponseMetaData': {'request': 'Санкт-Петербург, Калининский район, муниципальный округ Академическое',\n",
       "     'results': '10',\n",
       "     'found': '1'}},\n",
       "   'featureMember': [{'GeoObject': {'metaDataProperty': {'GeocoderMetaData': {'precision': 'other',\n",
       "        'text': 'Россия, Санкт-Петербург, Калининский район, муниципальный округ Академическое',\n",
       "        'kind': 'district',\n",
       "        'Address': {'country_code': 'RU',\n",
       "         'formatted': 'Россия, Санкт-Петербург, Калининский район, муниципальный округ Академическое',\n",
       "         'Components': [{'kind': 'country', 'name': 'Россия'},\n",
       "          {'kind': 'province', 'name': 'Северо-Западный федеральный округ'},\n",
       "          {'kind': 'province', 'name': 'Санкт-Петербург'},\n",
       "          {'kind': 'locality', 'name': 'Санкт-Петербург'},\n",
       "          {'kind': 'district', 'name': 'Калининский район'},\n",
       "          {'kind': 'district', 'name': 'муниципальный округ Академическое'}]},\n",
       "        'AddressDetails': {'Country': {'AddressLine': 'Россия, Санкт-Петербург, Калининский район, муниципальный округ Академическое',\n",
       "          'CountryNameCode': 'RU',\n",
       "          'CountryName': 'Россия',\n",
       "          'AdministrativeArea': {'AdministrativeAreaName': 'Санкт-Петербург',\n",
       "           'Locality': {'LocalityName': 'Санкт-Петербург',\n",
       "            'DependentLocality': {'DependentLocalityName': 'Калининский район',\n",
       "             'DependentLocality': {'DependentLocalityName': 'муниципальный округ Академическое'}}}}}}}},\n",
       "      'name': 'муниципальный округ Академическое',\n",
       "      'description': 'Калининский район, Санкт-Петербург, Россия',\n",
       "      'boundedBy': {'Envelope': {'lowerCorner': '30.364826 59.996596',\n",
       "        'upperCorner': '30.41904 60.032133'}},\n",
       "      'Point': {'pos': '30.385721 60.01691'}}}]}}}"
      ]
     },
     "execution_count": 16,
     "metadata": {},
     "output_type": "execute_result"
    }
   ],
   "source": [
    "request = 'https://geocode-maps.yandex.ru/1.x/?format=json&apikey={}&geocode={}'.format(API_KEY, example.replace(' ', '+'))\n",
    "r = requests.get(request)\n",
    "response = json.loads(r.text)\n",
    "response"
   ]
  },
  {
   "cell_type": "code",
   "execution_count": 17,
   "metadata": {},
   "outputs": [],
   "source": [
    "def get_coords(x):\n",
    "    request = 'https://geocode-maps.yandex.ru/1.x/?format=json&apikey={}&geocode={}'.format(API_KEY, x.replace(' ', '+'))\n",
    "    r = requests.get(request)\n",
    "    coords = json.loads(r.text)['response']\n",
    "    coords = coords['GeoObjectCollection']['featureMember'][0]\n",
    "    coords = coords['GeoObject']['Point']['pos']\n",
    "    coords = coords.split()[::-1]\n",
    "    coords = list(map(float, coords))\n",
    "    return coords"
   ]
  },
  {
   "cell_type": "code",
   "execution_count": 18,
   "metadata": {},
   "outputs": [
    {
     "data": {
      "text/plain": [
       "[60.01691, 30.385721]"
      ]
     },
     "execution_count": 18,
     "metadata": {},
     "output_type": "execute_result"
    }
   ],
   "source": [
    "get_coords(example)"
   ]
  },
  {
   "cell_type": "code",
   "execution_count": 19,
   "metadata": {},
   "outputs": [],
   "source": [
    "df['coords'] = df.address.map(get_coords)"
   ]
  },
  {
   "cell_type": "markdown",
   "metadata": {},
   "source": [
    "\"Растащим\" список на две отдельные колонки"
   ]
  },
  {
   "cell_type": "code",
   "execution_count": 20,
   "metadata": {},
   "outputs": [],
   "source": [
    "df[['lat', 'long']] = pd.DataFrame(df.coords.values.tolist(), index=df.index)\n",
    "df = df.drop('coords', 1)"
   ]
  },
  {
   "cell_type": "markdown",
   "metadata": {},
   "source": [
    "Соберем это в отдельную функцию"
   ]
  },
  {
   "cell_type": "code",
   "execution_count": 21,
   "metadata": {},
   "outputs": [],
   "source": [
    "def geocode(df):\n",
    "    def get_coords(x):\n",
    "        request = 'https://geocode-maps.yandex.ru/1.x/?format=json&apikey={}&geocode={}'.format(API_KEY, x.replace(' ', '+'))\n",
    "        r = requests.get(request)\n",
    "        coords = json.loads(r.text)['response']\n",
    "        coords = coords['GeoObjectCollection']['featureMember'][0]\n",
    "        coords = coords['GeoObject']['Point']['pos']\n",
    "        coords = coords.split()[::-1]\n",
    "        coords = list(map(float, coords))\n",
    "        return coords\n",
    "    \n",
    "    df['coords'] = df.address.map(get_coords)\n",
    "    df[['lat', 'long']] = pd.DataFrame(df.coords.values.tolist(), index=df.index)\n",
    "    df = df.drop('coords', 1)\n",
    "    return df"
   ]
  }
 ],
 "metadata": {
  "kernelspec": {
   "display_name": "Python 3",
   "language": "python",
   "name": "python3"
  },
  "language_info": {
   "codemirror_mode": {
    "name": "ipython",
    "version": 3
   },
   "file_extension": ".py",
   "mimetype": "text/x-python",
   "name": "python",
   "nbconvert_exporter": "python",
   "pygments_lexer": "ipython3",
   "version": "3.7.6"
  }
 },
 "nbformat": 4,
 "nbformat_minor": 4
}
