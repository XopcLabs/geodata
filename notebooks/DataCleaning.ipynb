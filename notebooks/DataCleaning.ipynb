{
 "cells": [
  {
   "cell_type": "code",
   "execution_count": 1,
   "metadata": {},
   "outputs": [],
   "source": [
    "# pandas module\n",
    "import geopandas as gpd\n",
    "import pandas as pd\n",
    "\n",
    "# Shapely for creating geometries\n",
    "from shapely.geometry import Point\n",
    "from shapely.ops import triangulate\n",
    "\n",
    "# osmnx for fetching OSM data\n",
    "#networkx for working with graphs\n",
    "import osmnx as ox\n",
    "import networkx as nx\n",
    "ox.config(use_cache=True)\n",
    "\n",
    "# MPL for plotting\n",
    "# mpl_toolkits for better colorbars\n",
    "# contextily for adding map to mpl plots\n",
    "# mplleaflet for interactive plots\n",
    "from mpl_toolkits.axes_grid1 import make_axes_locatable\n",
    "import matplotlib.colors as colors\n",
    "import matplotlib.pyplot as plt\n",
    "import matplotlib.cm as cm\n",
    "import contextily as ctx\n",
    "import mplleaflet\n",
    "%matplotlib inline\n",
    "\n",
    "# Path\n",
    "import os.path\n",
    "from pathlib import Path"
   ]
  },
  {
   "cell_type": "markdown",
   "metadata": {},
   "source": [
    "# Подготовка данных\n",
    "Загрузим данные о всех типах квартир и объединим в один датасет."
   ]
  },
  {
   "cell_type": "code",
   "execution_count": 2,
   "metadata": {},
   "outputs": [],
   "source": [
    "root = os.path.dirname(os.path.abspath(''))\n",
    "docs = os.path.join(root, 'docs')\n",
    "data = os.path.join(root, 'data')\n",
    "gpkgs = [path for path in Path(data).rglob('*.gpkg')]"
   ]
  },
  {
   "cell_type": "code",
   "execution_count": 3,
   "metadata": {},
   "outputs": [
    {
     "name": "stdout",
     "output_type": "stream",
     "text": [
      "data_clean added 42770 to the 42770 of total datapoints\n",
      "metro    added    72 to the 42842 of total datapoints\n",
      "spb      added    19 to the 42861 of total datapoints\n",
      "lotrooms added  5470 to the 48331 of total datapoints\n",
      "oneroom  added  5059 to the 53390 of total datapoints\n",
      "studio   added  6092 to the 59482 of total datapoints\n",
      "tworooms added  6588 to the 66070 of total datapoints\n"
     ]
    }
   ],
   "source": [
    "df = gpd.GeoDataFrame()\n",
    "for path in gpkgs:\n",
    "    type_df = gpd.read_file(path)\n",
    "    df = df.append(type_df, ignore_index=True) \n",
    "    print('{:8s} added {:5d} to the {:5d} of total datapoints'.format(path.stem, len(type_df), len(df)))\n",
    "df.crs = 'epsg:4326'"
   ]
  },
  {
   "cell_type": "code",
   "execution_count": 4,
   "metadata": {},
   "outputs": [],
   "source": [
    "df['added_time'] = pd.to_datetime(df['added_time'])\n",
    "df['parsed_at'] = pd.to_datetime(df['parsed_at'])"
   ]
  },
  {
   "cell_type": "code",
   "execution_count": 5,
   "metadata": {},
   "outputs": [
    {
     "name": "stdout",
     "output_type": "stream",
     "text": [
      "<class 'geopandas.geodataframe.GeoDataFrame'>\n",
      "RangeIndex: 66070 entries, 0 to 66069\n",
      "Data columns (total 30 columns):\n",
      " #   Column               Non-Null Count  Dtype         \n",
      "---  ------               --------------  -----         \n",
      " 0   title                66051 non-null  object        \n",
      " 1   price                65998 non-null  float64       \n",
      " 2   rooms                64541 non-null  float64       \n",
      " 3   square               65939 non-null  float64       \n",
      " 4   living_square        50836 non-null  float64       \n",
      " 5   kitchen_square       45056 non-null  float64       \n",
      " 6   metro                54509 non-null  object        \n",
      " 7   floor                65939 non-null  float64       \n",
      " 8   max_floor            65939 non-null  float64       \n",
      " 9   year_built           16356 non-null  float64       \n",
      " 10  house_type           65939 non-null  object        \n",
      " 11  not_built            20042 non-null  object        \n",
      " 12  seller_name          65957 non-null  object        \n",
      " 13  link                 65979 non-null  object        \n",
      " 14  parsed_at            65979 non-null  datetime64[ns]\n",
      " 15  added_time           65979 non-null  datetime64[ns]\n",
      " 16  address              65979 non-null  object        \n",
      " 17  description          65979 non-null  object        \n",
      " 18  dist_to_metro        54456 non-null  float64       \n",
      " 19  seller_review        65979 non-null  float64       \n",
      " 20  seller_status        65979 non-null  object        \n",
      " 21  views                65979 non-null  float64       \n",
      " 22  longitude            42770 non-null  float64       \n",
      " 23  latitude             42770 non-null  float64       \n",
      " 24  district             21033 non-null  object        \n",
      " 25  price_square         21033 non-null  float64       \n",
      " 26  price_square_median  19 non-null     object        \n",
      " 27  price_median         19 non-null     object        \n",
      " 28  geometry             66050 non-null  geometry      \n",
      " 29  seller_rating        0 non-null      object        \n",
      "dtypes: datetime64[ns](2), float64(14), geometry(1), object(13)\n",
      "memory usage: 15.1+ MB\n"
     ]
    }
   ],
   "source": [
    "df.info()"
   ]
  },
  {
   "cell_type": "markdown",
   "metadata": {},
   "source": [
    "Дропнем колонку с ```seller_rating```, поскольку они полностью состоят из *nan*. Затем уберем из датасета записи, в которых нет данных о количестве комнат и, на всякий случай, дропнем дубликаты. "
   ]
  },
  {
   "cell_type": "code",
   "execution_count": 6,
   "metadata": {},
   "outputs": [],
   "source": [
    "df = df.drop(['seller_rating'], 1)\n",
    "df = df.drop_duplicates(['price', 'title', 'address', 'seller_name', 'metro'])\n",
    "df = df[(df.rooms.notna()) & (df.geometry.notna())]"
   ]
  },
  {
   "cell_type": "markdown",
   "metadata": {},
   "source": [
    "Есть такие *плохие люди*, которые не указывают адрес дома. Поскольку подобных объявлений достаточно много, они будут мешать статистике Центрального района (геокодинг точки в \"Санкт-Петербург\" показывает на Дворцовую). "
   ]
  },
  {
   "cell_type": "code",
   "execution_count": 7,
   "metadata": {},
   "outputs": [
    {
     "data": {
      "text/plain": [
       "seller_name\n",
       "ПетроИнвестГрупп             180\n",
       "ООО \"Вавилон Сити\"            72\n",
       "Единый центр недвижимости     50\n",
       "Петроградская                 47\n",
       "ООО Единый центр квартир      19\n",
       "Новостройки                   16\n",
       "Архитектура Недвижимости      12\n",
       "Sunday Estate                  2\n",
       "Авангард Недвижимость          2\n",
       "Айдын                          1\n",
       "Александр                      1\n",
       "Валентина                      1\n",
       "Виктор                         1\n",
       "Виктория                       1\n",
       "Марина                         1\n",
       "частное лицо                   1\n",
       "Ольга                          1\n",
       "частное                        1\n",
       "Петербургская квартира         1\n",
       "Пользователь                   1\n",
       "РиК                            1\n",
       "Собственник                    1\n",
       "Татьяна                        1\n",
       "Триумф                         1\n",
       "Физическое лицо                1\n",
       "Эдуард-Собственник             1\n",
       "асми                           1\n",
       "людмила                        1\n",
       "ПРОДАВЕЦ                       1\n",
       "dtype: int64"
      ]
     },
     "execution_count": 7,
     "metadata": {},
     "output_type": "execute_result"
    }
   ],
   "source": [
    "df[df.address == 'Санкт-Петербург'].groupby('seller_name').size().sort_values(ascending=False)"
   ]
  },
  {
   "cell_type": "markdown",
   "metadata": {},
   "source": [
    "Эти объявления можно либо дропнуть, либо закодировать их по ближайшему метро. Поскольку их таких почти 4% от всего датасета, я решил выбрать второй путь."
   ]
  },
  {
   "cell_type": "code",
   "execution_count": 8,
   "metadata": {},
   "outputs": [],
   "source": [
    "idx = df[df.address == 'Санкт-Петербург'].index\n",
    "df['address'] = df.apply(lambda r: 'Станция метро ' + r['metro'] + ', Санкт-Петербург' if r['address'] == 'Санкт-Петербург' else r['address'], axis=1)"
   ]
  },
  {
   "cell_type": "markdown",
   "metadata": {},
   "source": [
    "Перед геокодингом перевернем координаты"
   ]
  },
  {
   "cell_type": "code",
   "execution_count": 10,
   "metadata": {},
   "outputs": [],
   "source": [
    "def fix_coords(p, how='lonlat'):\n",
    "    if how == 'lonlat':\n",
    "        if p.x > 45:\n",
    "            p = Point(p.y, p.x)\n",
    "    elif how == 'latlon':\n",
    "        if p.y > 45:\n",
    "            p = Point(p.y, p.x)\n",
    "    return p\n",
    "\n",
    "df['geometry'] = df.geometry.map(fix_coords, {'how':'lonlat'})"
   ]
  },
  {
   "cell_type": "code",
   "execution_count": 12,
   "metadata": {},
   "outputs": [
    {
     "data": {
      "text/html": [
       "<div>\n",
       "<style scoped>\n",
       "    .dataframe tbody tr th:only-of-type {\n",
       "        vertical-align: middle;\n",
       "    }\n",
       "\n",
       "    .dataframe tbody tr th {\n",
       "        vertical-align: top;\n",
       "    }\n",
       "\n",
       "    .dataframe thead th {\n",
       "        text-align: right;\n",
       "    }\n",
       "</style>\n",
       "<table border=\"1\" class=\"dataframe\">\n",
       "  <thead>\n",
       "    <tr style=\"text-align: right;\">\n",
       "      <th></th>\n",
       "      <th>geometry</th>\n",
       "      <th>address</th>\n",
       "    </tr>\n",
       "  </thead>\n",
       "  <tbody>\n",
       "    <tr>\n",
       "      <th>43050</th>\n",
       "      <td>POINT (30.25190 59.84195)</td>\n",
       "      <td>метро Проспект Ветеранов, 1 линия, Санкт-Петер...</td>\n",
       "    </tr>\n",
       "    <tr>\n",
       "      <th>43051</th>\n",
       "      <td>POINT (30.43920 59.93243)</td>\n",
       "      <td>метро Ладожская, 4 линия, Санкт-Петербург, Россия</td>\n",
       "    </tr>\n",
       "    <tr>\n",
       "      <th>43052</th>\n",
       "      <td>POINT (30.29972 59.90721)</td>\n",
       "      <td>метро Балтийская, 1 линия, Санкт-Петербург, Ро...</td>\n",
       "    </tr>\n",
       "    <tr>\n",
       "      <th>43053</th>\n",
       "      <td>POINT (30.42377 59.89664)</td>\n",
       "      <td>метро Елизаровская, 3 линия, Санкт-Петербург, ...</td>\n",
       "    </tr>\n",
       "    <tr>\n",
       "      <th>43054</th>\n",
       "      <td>POINT (30.29666 60.00252)</td>\n",
       "      <td>метро Пионерская, 2 линия, Санкт-Петербург, Ро...</td>\n",
       "    </tr>\n",
       "  </tbody>\n",
       "</table>\n",
       "</div>"
      ],
      "text/plain": [
       "                        geometry  \\\n",
       "43050  POINT (30.25190 59.84195)   \n",
       "43051  POINT (30.43920 59.93243)   \n",
       "43052  POINT (30.29972 59.90721)   \n",
       "43053  POINT (30.42377 59.89664)   \n",
       "43054  POINT (30.29666 60.00252)   \n",
       "\n",
       "                                                 address  \n",
       "43050  метро Проспект Ветеранов, 1 линия, Санкт-Петер...  \n",
       "43051  метро Ладожская, 4 линия, Санкт-Петербург, Россия  \n",
       "43052  метро Балтийская, 1 линия, Санкт-Петербург, Ро...  \n",
       "43053  метро Елизаровская, 3 линия, Санкт-Петербург, ...  \n",
       "43054  метро Пионерская, 2 линия, Санкт-Петербург, Ро...  "
      ]
     },
     "execution_count": 12,
     "metadata": {},
     "output_type": "execute_result"
    }
   ],
   "source": [
    "from secret import API_KEY\n",
    "points = gpd.tools.geocode(df.loc[idx].address, provider='Yandex', api_key=API_KEY, timeout=10)\n",
    "points.head()"
   ]
  },
  {
   "cell_type": "code",
   "execution_count": 13,
   "metadata": {},
   "outputs": [],
   "source": [
    "df.loc[points.index, 'geometry'] = points.geometry"
   ]
  },
  {
   "cell_type": "markdown",
   "metadata": {},
   "source": [
    "Преобразуем latitude/longitude в longitude/latitude, поменяв местами координаты"
   ]
  },
  {
   "cell_type": "code",
   "execution_count": 14,
   "metadata": {},
   "outputs": [],
   "source": [
    "df['longitude'] = df.geometry.map(lambda p: p.x)\n",
    "df['latitude'] = df.geometry.map(lambda p: p.y)"
   ]
  },
  {
   "cell_type": "markdown",
   "metadata": {},
   "source": [
    "# Получим данные о районах с OpenStreetMap"
   ]
  },
  {
   "cell_type": "code",
   "execution_count": 22,
   "metadata": {},
   "outputs": [],
   "source": [
    "districts = [\n",
    "    'Адмиралтейский',\n",
    "    'Василеостровский',\n",
    "    'Выборгский',\n",
    "    'Калининский',\n",
    "    'Кировский',\n",
    "    'Красносельский',\n",
    "    'Красногвардейский',\n",
    "    'Колпинский',\n",
    "    'Кронштадтский',\n",
    "    'Курортный',\n",
    "    'Петродворцовый',\n",
    "    'Пушкинский',\n",
    "    'Московский',\n",
    "    'Невский',\n",
    "    'Петроградский',\n",
    "    'Фрунзенский',\n",
    "    'Центральный',\n",
    "    'Приморский'\n",
    "]\n",
    "places = ['{} район, Санкт-Петербург, Россия'.format(d) for d in districts]\n",
    "spb = ox.gdf_from_places(places)"
   ]
  },
  {
   "cell_type": "code",
   "execution_count": 23,
   "metadata": {},
   "outputs": [],
   "source": [
    "spb = spb.drop(spb.columns[spb.columns.str.contains('bbox')], 1)\n",
    "spb['place_name'] = districts\n",
    "spb = spb.rename(columns={'place_name':'district'})"
   ]
  },
  {
   "cell_type": "code",
   "execution_count": 24,
   "metadata": {},
   "outputs": [],
   "source": [
    "spb = spb.to_crs(df.crs)"
   ]
  },
  {
   "cell_type": "markdown",
   "metadata": {},
   "source": [
    "Также отдельно выделим Крестовский остров. По первым запросам выдаются точки, поэтому для выберем четвертый запрос. В нем то, что нам нужно."
   ]
  },
  {
   "cell_type": "code",
   "execution_count": 25,
   "metadata": {},
   "outputs": [],
   "source": [
    "krest = ox.gdf_from_place('Крестовский остров, Санкт-Петербург', which_result=3)\n",
    "\n",
    "krest['district'] = ['Крестовский остров']\n",
    "krest = krest.loc[:, ['geometry', 'district']]\n",
    "krest = krest.to_crs('epsg:4326')"
   ]
  },
  {
   "cell_type": "markdown",
   "metadata": {},
   "source": [
    "Соответственно, из Петроградского района его нужно \"вычесть\"."
   ]
  },
  {
   "cell_type": "code",
   "execution_count": 26,
   "metadata": {},
   "outputs": [
    {
     "data": {
      "image/png": "[encoded data removed]",
      "text/plain": [
       "<Figure size 432x288 with 1 Axes>"
      ]
     },
     "metadata": {
      "needs_background": "light"
     },
     "output_type": "display_data"
    }
   ],
   "source": [
    "petro = gpd.overlay(spb[spb.district == 'Петроградский'], krest, how='difference')\n",
    "petro.plot()\n",
    "plt.axis('off')\n",
    "plt.tight_layout()\n",
    "plt.show()"
   ]
  },
  {
   "cell_type": "code",
   "execution_count": 27,
   "metadata": {},
   "outputs": [],
   "source": [
    "spb.loc[14, 'geometry'] = petro.geometry.iloc[0]\n",
    "spb = spb.append(krest, ignore_index=True)"
   ]
  },
  {
   "cell_type": "markdown",
   "metadata": {},
   "source": [
    "Посмотрим на результат"
   ]
  },
  {
   "cell_type": "code",
   "execution_count": 28,
   "metadata": {},
   "outputs": [
    {
     "data": {
      "image/png": "[encoded data removed]",
      "text/plain": [
       "<Figure size 432x432 with 1 Axes>"
      ]
     },
     "metadata": {
      "needs_background": "light"
     },
     "output_type": "display_data"
    }
   ],
   "source": [
    "spb.plot(figsize=(6, 6))\n",
    "plt.axis('off')\n",
    "plt.tight_layout()\n",
    "plt.show()"
   ]
  },
  {
   "cell_type": "code",
   "execution_count": 29,
   "metadata": {},
   "outputs": [
    {
     "data": {
      "text/html": [
       "<div>\n",
       "<style scoped>\n",
       "    .dataframe tbody tr th:only-of-type {\n",
       "        vertical-align: middle;\n",
       "    }\n",
       "\n",
       "    .dataframe tbody tr th {\n",
       "        vertical-align: top;\n",
       "    }\n",
       "\n",
       "    .dataframe thead th {\n",
       "        text-align: right;\n",
       "    }\n",
       "</style>\n",
       "<table border=\"1\" class=\"dataframe\">\n",
       "  <thead>\n",
       "    <tr style=\"text-align: right;\">\n",
       "      <th></th>\n",
       "      <th>geometry</th>\n",
       "      <th>district</th>\n",
       "    </tr>\n",
       "  </thead>\n",
       "  <tbody>\n",
       "    <tr>\n",
       "      <th>0</th>\n",
       "      <td>POLYGON ((30.25023 59.90129, 30.25112 59.90103...</td>\n",
       "      <td>Адмиралтейский</td>\n",
       "    </tr>\n",
       "    <tr>\n",
       "      <th>1</th>\n",
       "      <td>POLYGON ((30.17787 59.94437, 30.17790 59.94403...</td>\n",
       "      <td>Василеостровский</td>\n",
       "    </tr>\n",
       "    <tr>\n",
       "      <th>2</th>\n",
       "      <td>POLYGON ((30.07078 60.09625, 30.07421 60.09397...</td>\n",
       "      <td>Выборгский</td>\n",
       "    </tr>\n",
       "    <tr>\n",
       "      <th>3</th>\n",
       "      <td>POLYGON ((30.34398 59.97727, 30.34399 59.97721...</td>\n",
       "      <td>Калининский</td>\n",
       "    </tr>\n",
       "    <tr>\n",
       "      <th>4</th>\n",
       "      <td>POLYGON ((30.16148 59.87425, 30.16158 59.87412...</td>\n",
       "      <td>Кировский</td>\n",
       "    </tr>\n",
       "    <tr>\n",
       "      <th>5</th>\n",
       "      <td>MULTIPOLYGON (((30.03496 59.71785, 30.04040 59...</td>\n",
       "      <td>Красносельский</td>\n",
       "    </tr>\n",
       "    <tr>\n",
       "      <th>6</th>\n",
       "      <td>POLYGON ((30.39428 59.92902, 30.39591 59.92574...</td>\n",
       "      <td>Красногвардейский</td>\n",
       "    </tr>\n",
       "    <tr>\n",
       "      <th>7</th>\n",
       "      <td>POLYGON ((30.43944 59.82803, 30.44391 59.82827...</td>\n",
       "      <td>Колпинский</td>\n",
       "    </tr>\n",
       "    <tr>\n",
       "      <th>8</th>\n",
       "      <td>MULTIPOLYGON (((29.53948 60.04409, 29.53974 60...</td>\n",
       "      <td>Кронштадтский</td>\n",
       "    </tr>\n",
       "    <tr>\n",
       "      <th>9</th>\n",
       "      <td>POLYGON ((29.42981 60.18954, 29.44772 60.18898...</td>\n",
       "      <td>Курортный</td>\n",
       "    </tr>\n",
       "    <tr>\n",
       "      <th>10</th>\n",
       "      <td>POLYGON ((29.64754 59.92986, 29.64792 59.92829...</td>\n",
       "      <td>Петродворцовый</td>\n",
       "    </tr>\n",
       "    <tr>\n",
       "      <th>11</th>\n",
       "      <td>POLYGON ((30.21822 59.67307, 30.22257 59.67064...</td>\n",
       "      <td>Пушкинский</td>\n",
       "    </tr>\n",
       "    <tr>\n",
       "      <th>12</th>\n",
       "      <td>POLYGON ((30.19877 59.80161, 30.19885 59.80150...</td>\n",
       "      <td>Московский</td>\n",
       "    </tr>\n",
       "    <tr>\n",
       "      <th>13</th>\n",
       "      <td>POLYGON ((30.36334 59.91387, 30.36347 59.91351...</td>\n",
       "      <td>Невский</td>\n",
       "    </tr>\n",
       "    <tr>\n",
       "      <th>14</th>\n",
       "      <td>POLYGON ((30.22011 59.97714, 30.22051 59.97713...</td>\n",
       "      <td>Петроградский</td>\n",
       "    </tr>\n",
       "    <tr>\n",
       "      <th>15</th>\n",
       "      <td>POLYGON ((30.33258 59.91305, 30.33284 59.91285...</td>\n",
       "      <td>Фрунзенский</td>\n",
       "    </tr>\n",
       "    <tr>\n",
       "      <th>16</th>\n",
       "      <td>POLYGON ((30.30827 59.94106, 30.30908 59.94051...</td>\n",
       "      <td>Центральный</td>\n",
       "    </tr>\n",
       "    <tr>\n",
       "      <th>17</th>\n",
       "      <td>POLYGON ((29.95527 60.03782, 29.95528 60.03746...</td>\n",
       "      <td>Приморский</td>\n",
       "    </tr>\n",
       "    <tr>\n",
       "      <th>18</th>\n",
       "      <td>POLYGON ((30.21013 59.97234, 30.21024 59.97166...</td>\n",
       "      <td>Крестовский остров</td>\n",
       "    </tr>\n",
       "  </tbody>\n",
       "</table>\n",
       "</div>"
      ],
      "text/plain": [
       "                                             geometry            district\n",
       "0   POLYGON ((30.25023 59.90129, 30.25112 59.90103...      Адмиралтейский\n",
       "1   POLYGON ((30.17787 59.94437, 30.17790 59.94403...    Василеостровский\n",
       "2   POLYGON ((30.07078 60.09625, 30.07421 60.09397...          Выборгский\n",
       "3   POLYGON ((30.34398 59.97727, 30.34399 59.97721...         Калининский\n",
       "4   POLYGON ((30.16148 59.87425, 30.16158 59.87412...           Кировский\n",
       "5   MULTIPOLYGON (((30.03496 59.71785, 30.04040 59...      Красносельский\n",
       "6   POLYGON ((30.39428 59.92902, 30.39591 59.92574...   Красногвардейский\n",
       "7   POLYGON ((30.43944 59.82803, 30.44391 59.82827...          Колпинский\n",
       "8   MULTIPOLYGON (((29.53948 60.04409, 29.53974 60...       Кронштадтский\n",
       "9   POLYGON ((29.42981 60.18954, 29.44772 60.18898...           Курортный\n",
       "10  POLYGON ((29.64754 59.92986, 29.64792 59.92829...      Петродворцовый\n",
       "11  POLYGON ((30.21822 59.67307, 30.22257 59.67064...          Пушкинский\n",
       "12  POLYGON ((30.19877 59.80161, 30.19885 59.80150...          Московский\n",
       "13  POLYGON ((30.36334 59.91387, 30.36347 59.91351...             Невский\n",
       "14  POLYGON ((30.22011 59.97714, 30.22051 59.97713...       Петроградский\n",
       "15  POLYGON ((30.33258 59.91305, 30.33284 59.91285...         Фрунзенский\n",
       "16  POLYGON ((30.30827 59.94106, 30.30908 59.94051...         Центральный\n",
       "17  POLYGON ((29.95527 60.03782, 29.95528 60.03746...          Приморский\n",
       "18  POLYGON ((30.21013 59.97234, 30.21024 59.97166...  Крестовский остров"
      ]
     },
     "execution_count": 29,
     "metadata": {},
     "output_type": "execute_result"
    }
   ],
   "source": [
    "spb"
   ]
  },
  {
   "cell_type": "markdown",
   "metadata": {},
   "source": [
    "Сделаем spatial join между районами Петербурга и датасетом"
   ]
  },
  {
   "cell_type": "code",
   "execution_count": 30,
   "metadata": {},
   "outputs": [],
   "source": [
    "df = gpd.sjoin(df, spb)\n",
    "df = df.drop(['index_right'], 1)\n",
    "df = df.drop_duplicates(['title', 'price', 'square', 'geometry'], keep='last')"
   ]
  },
  {
   "cell_type": "markdown",
   "metadata": {},
   "source": [
    "# Сохраним чистый датасет"
   ]
  },
  {
   "cell_type": "code",
   "execution_count": 31,
   "metadata": {},
   "outputs": [],
   "source": [
    "df.to_file(os.path.join(data, 'data_clean.gpkg'), driver='GPKG')\n",
    "spb.to_file(os.path.join(data, 'spb.gpkg'), driver='GPKG')"
   ]
  }
 ],
 "metadata": {
  "kernelspec": {
   "display_name": "Python 3",
   "language": "python",
   "name": "python3"
  },
  "language_info": {
   "codemirror_mode": {
    "name": "ipython",
    "version": 3
   },
   "file_extension": ".py",
   "mimetype": "text/x-python",
   "name": "python",
   "nbconvert_exporter": "python",
   "pygments_lexer": "ipython3",
   "version": "3.7.6"
  }
 },
 "nbformat": 4,
 "nbformat_minor": 4
}
