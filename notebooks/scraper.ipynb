{
 "cells": [
  {
   "cell_type": "code",
   "execution_count": 1,
   "metadata": {},
   "outputs": [],
   "source": [
    "import requests\n",
    "from fake_useragent import UserAgent\n",
    "from bs4 import BeautifulSoup\n",
    "import numpy as np\n",
    "import pandas as pd\n",
    "from datetime import datetime"
   ]
  },
  {
   "cell_type": "markdown",
   "metadata": {},
   "source": [
    "# Подготовка\n",
    "Создадим словарь с User-Agent, чтобы авито не ловил нас сразу же."
   ]
  },
  {
   "cell_type": "code",
   "execution_count": 2,
   "metadata": {},
   "outputs": [],
   "source": [
    "base_url = 'https://www.avito.ru' \n",
    "url = 'https://www.avito.ru/sankt-peterburg/kvartiry/prodam/studii-ASgBAQICAUSSA8YQAUDKCBT~WA?cd=1&s=104&p={}'\n",
    "ua = UserAgent()\n",
    "headers = {'User-Agent': str(ua.chrome)}"
   ]
  },
  {
   "cell_type": "markdown",
   "metadata": {},
   "source": [
    "# Вытащим ссылки на квартиры\n",
    "Для этого я взял div с товаром и нашел в нем первую ссылку. Если пытаться просто вытаскивать ссылки с определенным классом, в них попадают также и ссылки на агенства и магазины (в случае парсинга товаров)."
   ]
  },
  {
   "cell_type": "code",
   "execution_count": 3,
   "metadata": {},
   "outputs": [],
   "source": [
    "r = requests.get(url.format(1), headers=headers)\n",
    "soup = BeautifulSoup(r.text, features='lxml')\n",
    "divs = soup.find_all('div', {'class':'item__line'})\n",
    "links = [div.find_next('a') for div in divs]"
   ]
  },
  {
   "cell_type": "code",
   "execution_count": 4,
   "metadata": {},
   "outputs": [
    {
     "data": {
      "text/plain": [
       "'/sankt-peterburg/kvartiry/studiya_13.9_m_24_et._1900026283'"
      ]
     },
     "execution_count": 4,
     "metadata": {},
     "output_type": "execute_result"
    }
   ],
   "source": [
    "links[0].get('href')"
   ]
  },
  {
   "cell_type": "markdown",
   "metadata": {},
   "source": [
    "Теперь, когда все работает, соберем это в функцию"
   ]
  },
  {
   "cell_type": "code",
   "execution_count": 5,
   "metadata": {},
   "outputs": [],
   "source": [
    "def get_links(page):\n",
    "    r = requests.get(url.format(page), headers=headers)\n",
    "    if not r.ok:\n",
    "        return []\n",
    "    soup = BeautifulSoup(r.text, features='lxml')\n",
    "    divs = soup.find_all('div', {'class':'item__line'})\n",
    "    links = []\n",
    "    if divs:\n",
    "        links = [div.find_next('a') for div in divs]\n",
    "        if links:\n",
    "            links = [base_url + link.get('href') for link in links]\n",
    "    return links"
   ]
  },
  {
   "cell_type": "code",
   "execution_count": 6,
   "metadata": {},
   "outputs": [
    {
     "data": {
      "text/plain": [
       "51"
      ]
     },
     "execution_count": 6,
     "metadata": {},
     "output_type": "execute_result"
    }
   ],
   "source": [
    "links = get_links(1)\n",
    "len(links)"
   ]
  },
  {
   "cell_type": "code",
   "execution_count": 7,
   "metadata": {},
   "outputs": [],
   "source": [
    "link = links[0]"
   ]
  },
  {
   "cell_type": "markdown",
   "metadata": {},
   "source": [
    "# Получим номер последней страницы\n",
    "Чтобы не вводить номер последней страницы вручную, будем получать его автоматически"
   ]
  },
  {
   "cell_type": "code",
   "execution_count": 8,
   "metadata": {},
   "outputs": [],
   "source": [
    "def get_last_page(soup):\n",
    "    next_button = soup.find('span', {'data-marker':'pagination-button/next'})\n",
    "    last_page = next_button.find_previous_sibling('span')\n",
    "    return int(last_page.text)"
   ]
  },
  {
   "cell_type": "code",
   "execution_count": 9,
   "metadata": {},
   "outputs": [
    {
     "data": {
      "text/plain": [
       "100"
      ]
     },
     "execution_count": 9,
     "metadata": {},
     "output_type": "execute_result"
    }
   ],
   "source": [
    "get_last_page(soup)"
   ]
  },
  {
   "cell_type": "markdown",
   "metadata": {},
   "source": [
    "# Парсинг страницы\n",
    "Для примера возьмем самую первую квартиру и начнем с ней работать. Большая часть кода, написанная для парсинга страницы квартиры, будет работать и для страницы товара."
   ]
  },
  {
   "cell_type": "code",
   "execution_count": 10,
   "metadata": {},
   "outputs": [
    {
     "name": "stdout",
     "output_type": "stream",
     "text": [
      "https://www.avito.ru/sankt-peterburg/kvartiry/studiya_13.9_m_24_et._1900026283\n"
     ]
    }
   ],
   "source": [
    "page_url = links[0]\n",
    "print(page_url)\n",
    "\n",
    "r = requests.get(page_url, headers=headers)\n",
    "soup = BeautifulSoup(r.text, features='lxml')"
   ]
  },
  {
   "cell_type": "markdown",
   "metadata": {},
   "source": [
    "## Заголовок"
   ]
  },
  {
   "cell_type": "code",
   "execution_count": 11,
   "metadata": {},
   "outputs": [
    {
     "data": {
      "text/plain": [
       "'Студия, 13.9 м², 2/4 эт.'"
      ]
     },
     "execution_count": 11,
     "metadata": {},
     "output_type": "execute_result"
    }
   ],
   "source": [
    "title = soup.find('span', {'class':'title-info-title-text'}).text\n",
    "title"
   ]
  },
  {
   "cell_type": "markdown",
   "metadata": {},
   "source": [
    "## Цена"
   ]
  },
  {
   "cell_type": "code",
   "execution_count": 12,
   "metadata": {},
   "outputs": [
    {
     "data": {
      "text/plain": [
       "1845000"
      ]
     },
     "execution_count": 12,
     "metadata": {},
     "output_type": "execute_result"
    }
   ],
   "source": [
    "price = int(soup.find('span', {'class':'js-item-price'}).get('content'))\n",
    "price"
   ]
  },
  {
   "cell_type": "markdown",
   "metadata": {},
   "source": [
    "## Имя продавца"
   ]
  },
  {
   "cell_type": "code",
   "execution_count": 13,
   "metadata": {},
   "outputs": [
    {
     "data": {
      "text/plain": [
       "'Арт-Строй Групп'"
      ]
     },
     "execution_count": 13,
     "metadata": {},
     "output_type": "execute_result"
    }
   ],
   "source": [
    "seller_name = soup.find('div', {'class':'seller-info-name js-seller-info-name'}).text.strip()\n",
    "seller_name"
   ]
  },
  {
   "cell_type": "markdown",
   "metadata": {},
   "source": [
    "## Рейтинг продавца\n",
    "Поскольку рейтинг - вещественное число, если его нет, удобно воткнуть вместо него ``np.nan``"
   ]
  },
  {
   "cell_type": "code",
   "execution_count": 14,
   "metadata": {},
   "outputs": [
    {
     "data": {
      "text/plain": [
       "nan"
      ]
     },
     "execution_count": 14,
     "metadata": {},
     "output_type": "execute_result"
    }
   ],
   "source": [
    "seller_rating = soup.find('span', {'class':'seller-info-rating-score'})\n",
    "seller_rating = seller_rating.text.strip().replace(',', '.') if seller_rating else np.nan\n",
    "seller_rating = float(seller_rating)\n",
    "seller_rating"
   ]
  },
  {
   "cell_type": "markdown",
   "metadata": {},
   "source": [
    "## Количество отзывов"
   ]
  },
  {
   "cell_type": "code",
   "execution_count": 15,
   "metadata": {},
   "outputs": [
    {
     "data": {
      "text/plain": [
       "0"
      ]
     },
     "execution_count": 15,
     "metadata": {},
     "output_type": "execute_result"
    }
   ],
   "source": [
    "seller_review = soup.find('span', {'class':'seller-info-rating-caption'})\n",
    "seller_review = seller_review.text.strip() if seller_review else '0'\n",
    "seller_review = int(seller_review.split()[0])\n",
    "seller_review"
   ]
  },
  {
   "cell_type": "markdown",
   "metadata": {},
   "source": [
    "## Частное лицо / Компания"
   ]
  },
  {
   "cell_type": "code",
   "execution_count": 16,
   "metadata": {},
   "outputs": [
    {
     "data": {
      "text/plain": [
       "'Агентство'"
      ]
     },
     "execution_count": 16,
     "metadata": {},
     "output_type": "execute_result"
    }
   ],
   "source": [
    "seller_status = soup.find_all('div', {'class':'seller-info-value'})[1]\n",
    "seller_status = seller_status.find_previous_sibling('div').text.strip()\n",
    "seller_status"
   ]
  },
  {
   "cell_type": "markdown",
   "metadata": {},
   "source": [
    "## Количество просмотров"
   ]
  },
  {
   "cell_type": "code",
   "execution_count": 17,
   "metadata": {},
   "outputs": [
    {
     "data": {
      "text/plain": [
       "2599"
      ]
     },
     "execution_count": 17,
     "metadata": {},
     "output_type": "execute_result"
    }
   ],
   "source": [
    "views = soup.find('div', {'class':'title-info-metadata-item title-info-metadata-views'}).text\n",
    "views = int(views[:views.find('(')].strip())\n",
    "views"
   ]
  },
  {
   "cell_type": "markdown",
   "metadata": {},
   "source": [
    "## Адрес"
   ]
  },
  {
   "cell_type": "code",
   "execution_count": 18,
   "metadata": {},
   "outputs": [
    {
     "data": {
      "text/plain": [
       "'Санкт-Петербург, Средний пр-т Васильевского острова, 70'"
      ]
     },
     "execution_count": 18,
     "metadata": {},
     "output_type": "execute_result"
    }
   ],
   "source": [
    "address = soup.find('span', {'class':'item-address__string'}).text.strip()\n",
    "address"
   ]
  },
  {
   "cell_type": "markdown",
   "metadata": {},
   "source": [
    "## Ближайшее метро"
   ]
  },
  {
   "cell_type": "code",
   "execution_count": 19,
   "metadata": {},
   "outputs": [
    {
     "name": "stdout",
     "output_type": "stream",
     "text": [
      "Василеостровская 900 м\n"
     ]
    }
   ],
   "source": [
    "metro = soup.find('span', {'class':'item-address-georeferences-item__content'}).text.strip()\n",
    "to_metro = soup.find('span', {'class':'item-address-georeferences-item__after'}).text.strip()\n",
    "to_metro = ' '.join(to_metro.split())\n",
    "print(metro, to_metro)"
   ]
  },
  {
   "cell_type": "markdown",
   "metadata": {},
   "source": [
    "## Описание товара"
   ]
  },
  {
   "cell_type": "code",
   "execution_count": 20,
   "metadata": {},
   "outputs": [
    {
     "data": {
      "text/plain": [
       "'ПРОДАЁТСЯ УЮТНАЯ СТУДИЯ ПО ЦЕНЕ КОМНАТЫ В САМОМ СЕРДЦЕ ПИТЕРА В историческом центре города, 10 минутах ходьбы от станции метро «Василеостровская» для комфортного проживания или выгодной сдачи в аренду В районе отлично развита инфраструктура: Достопримечательности и места для посещения Магазины Кафе, рестораны Фитнес Дет. сады, школы ОПИСАНИЕ СТУДИИ: + Современный дизайнерский ремонт с учетом Ваших пожеланий + Тихий двор + Кирпичный дом + Комфортная зона отдыха + ванная комната с сантехникой и душевой + Возможность устройства спального места на втором ярусе ПРЕИМУЩЕСТВА: Коммунальные платежи 1000-1500 руб./мес. Нотариальное оформление сделки, расчёт через банковскую ячейку. Полное юридическое сопровождение на всех этапах. При покупке студии для сдачи в аренду, наша управляющая компания возьмёт на себя поиск и заселение арендаторов, заботу о сохранности объекта, хозяйственные затраты. Спешите записаться на показ!'"
      ]
     },
     "execution_count": 20,
     "metadata": {},
     "output_type": "execute_result"
    }
   ],
   "source": [
    "desc = soup.find('div', {'class':'item-description'}).text.strip()\n",
    "desc"
   ]
  },
  {
   "cell_type": "markdown",
   "metadata": {},
   "source": [
    "## Время добавления"
   ]
  },
  {
   "cell_type": "code",
   "execution_count": 21,
   "metadata": {},
   "outputs": [
    {
     "data": {
      "text/plain": [
       "'сегодня в 21:43'"
      ]
     },
     "execution_count": 21,
     "metadata": {},
     "output_type": "execute_result"
    }
   ],
   "source": [
    "added_time = soup.find('div', {'class':'title-info-metadata-item-redesign'}).text.strip()\n",
    "added_time"
   ]
  },
  {
   "cell_type": "markdown",
   "metadata": {},
   "source": [
    "## Характеристики квартиры"
   ]
  },
  {
   "cell_type": "code",
   "execution_count": 22,
   "metadata": {},
   "outputs": [
    {
     "name": "stdout",
     "output_type": "stream",
     "text": [
      "{'floor': 2, 'max_floor': 4, 'house_type': 'кирпичный', 'rooms': 0, 'square': 13.9, 'year_built': 1895}\n"
     ]
    }
   ],
   "source": [
    "item_params = soup.find('div', {'class': 'item-params'})\n",
    "key_to_column = {\n",
    "    'Этаж': 'floor',\n",
    "    'Этажей в доме': 'max_floor',\n",
    "    'Тип дома': 'house_type',\n",
    "    'Количество комнат': 'rooms',\n",
    "    'Общая площадь':'square',\n",
    "    'Год постройки': 'year_built'\n",
    "}\n",
    "params = {}\n",
    "split = item_params.text.strip().split('\\n')\n",
    "for param in split:\n",
    "    key, value = param.split(':')\n",
    "    key = key_to_column[key.strip()]\n",
    "    if key in ['floor', 'max_floor', 'year_built']:\n",
    "        value = int(value.strip())\n",
    "    elif key == 'rooms':\n",
    "        value = value.strip().lower()\n",
    "        if value == 'студии' or value == 'студия':\n",
    "            value = 0\n",
    "        value = int(value)\n",
    "    elif key == 'square':\n",
    "        value = ''.join([c for c in value.strip() if c.isnumeric() or c == '.'])[:-1]\n",
    "        value = float(value)\n",
    "    else:\n",
    "        value = value.strip()\n",
    "    params[key] = value\n",
    "print(params)"
   ]
  },
  {
   "cell_type": "markdown",
   "metadata": {},
   "source": [
    "Теперь опять соберем все в одну функцию"
   ]
  },
  {
   "cell_type": "code",
   "execution_count": 34,
   "metadata": {},
   "outputs": [],
   "source": [
    "def get_info(url, flat=False):\n",
    "    r = requests.get(url, headers=headers)\n",
    "    soup = BeautifulSoup(r.text, features='lxml')\n",
    "    info = {}\n",
    "    \n",
    "    title = soup.find('span', {'class':'title-info-title-text'})\n",
    "    if title:\n",
    "        title = title.text\n",
    "        info['title'] = title\n",
    "\n",
    "    price = soup.find('span', {'class':'js-item-price'})\n",
    "    if price:\n",
    "        price = int(price.get('content'))\n",
    "        info['price'] = price\n",
    "\n",
    "    seller_name = soup.find('div', {'class':'seller-info-name js-seller-info-name'})\n",
    "    if seller_name:\n",
    "        seller_name = seller_name.text.strip()\n",
    "        info['seller_name'] = seller_name\n",
    "    \n",
    "    seller_rating = soup.find('span', {'class':'seller-info-rating-score'})\n",
    "    seller_rating = seller_rating.text.strip().replace(',', '.') if seller_rating else np.nan\n",
    "    seller_rating = float(seller_rating)\n",
    "    info['seller_rating'] = seller_rating\n",
    "    \n",
    "    seller_review = soup.find('span', {'class':'seller-info-rating-caption'})\n",
    "    seller_review = seller_review.text.strip() if seller_review else '0'\n",
    "    seller_review = int(seller_review.split()[0])\n",
    "    info['seller_review'] = seller_review\n",
    "    \n",
    "    seller_status = soup.find_all('div', {'class':'seller-info-value'})\n",
    "    if seller_status:\n",
    "        seller_status = seller_status[1]\n",
    "        seller_status = seller_status.find_previous_sibling('div').text.strip()\n",
    "        info['seller_status'] = seller_status\n",
    "\n",
    "    views = soup.find('div', {'class':'title-info-metadata-item title-info-metadata-views'})\n",
    "    if views:\n",
    "        views = views.text\n",
    "        views = int(views[:views.find('(')].strip())\n",
    "        info['views'] = views\n",
    "\n",
    "    address = soup.find('span', {'class':'item-address__string'})\n",
    "    if address:\n",
    "        address = address.text.strip()\n",
    "        info['address'] = address\n",
    "\n",
    "    metro = soup.find('span', {'class':'item-address-georeferences-item__content'})\n",
    "    metro = metro.text.strip() if metro else ''\n",
    "    info['metro'] = metro\n",
    "    \n",
    "    to_metro = soup.find('span', {'class':'item-address-georeferences-item__after'})\n",
    "    to_metro = to_metro.text.strip() if to_metro else ''\n",
    "    to_metro = ' '.join(to_metro.split()) if to_metro else ''\n",
    "    info['dist_to_metro'] = to_metro\n",
    "\n",
    "    desc = soup.find('div', {'class':'item-description'})\n",
    "    if desc:\n",
    "        desc = desc.text.strip()\n",
    "        info['description'] = desc\n",
    "\n",
    "    added_time = soup.find('div', {'class':'title-info-metadata-item-redesign'})\n",
    "    if added_time:\n",
    "        added_time = added_time.text.strip()\n",
    "        info['added_time'] = added_time\n",
    "        \n",
    "    if flat:\n",
    "        item_params = soup.find('div', {'class': 'item-params'})\n",
    "        key_to_column = {\n",
    "            'Этаж': 'floor',\n",
    "            'Этажей в доме': 'max_floor',\n",
    "            'Тип дома': 'house_type',\n",
    "            'Количество комнат': 'rooms',\n",
    "            'Общая площадь':'square',\n",
    "            'Жилая площадь': 'living_square',\n",
    "            'Площадь кухни': 'kitchen_square',\n",
    "            'Год постройки': 'year_built'\n",
    "        }\n",
    "        params = {}\n",
    "        split = item_params.text.strip().split('\\n')\n",
    "        for param in split:\n",
    "            key, value = param.split(':')\n",
    "            key = key.strip()\n",
    "            if key in key_to_column.keys():\n",
    "                key = key_to_column[key.strip()]\n",
    "            else:\n",
    "                break\n",
    "            if key in ['floor', 'max_floor', 'year_built']:\n",
    "                value = int(value.strip())\n",
    "            elif key == 'rooms':\n",
    "                value = value.strip().lower()\n",
    "                if value == 'студии' or value == 'студия':\n",
    "                    value = 0\n",
    "                value = int(value)\n",
    "            elif 'square' in key:\n",
    "                value = ''.join([c for c in value.strip() if c.isnumeric() or c == '.'])[:-1]\n",
    "                value = float(value)\n",
    "            else:\n",
    "                value = value.strip()\n",
    "            params[key] = value\n",
    "            \n",
    "        info.update(params)\n",
    "    \n",
    "    info['link'] = url\n",
    "    info['parsed_at'] = datetime.now()\n",
    "\n",
    "    return info"
   ]
  },
  {
   "cell_type": "code",
   "execution_count": 32,
   "metadata": {},
   "outputs": [
    {
     "data": {
      "text/plain": [
       "{'title': 'Студия, 13.9 м², 2/4 эт.',\n",
       " 'price': 1845000,\n",
       " 'seller_name': 'Арт-Строй Групп',\n",
       " 'seller_rating': nan,\n",
       " 'seller_review': 0,\n",
       " 'seller_status': 'Агентство',\n",
       " 'views': 2617,\n",
       " 'address': 'Санкт-Петербург, Средний пр-т Васильевского острова, 70',\n",
       " 'metro': 'Василеостровская',\n",
       " 'dist_to_metro': '900 м',\n",
       " 'description': 'ПРОДАЁТСЯ УЮТНАЯ СТУДИЯ ПО ЦЕНЕ КОМНАТЫ В САМОМ СЕРДЦЕ ПИТЕРА В историческом центре города, 10 минутах ходьбы от станции метро «Василеостровская» для комфортного проживания или выгодной сдачи в аренду В районе отлично развита инфраструктура: Достопримечательности и места для посещения Магазины Кафе, рестораны Фитнес Дет. сады, школы ОПИСАНИЕ СТУДИИ: + Современный дизайнерский ремонт с учетом Ваших пожеланий + Тихий двор + Кирпичный дом + Комфортная зона отдыха + ванная комната с сантехникой и душевой + Возможность устройства спального места на втором ярусе ПРЕИМУЩЕСТВА: Коммунальные платежи 1000-1500 руб./мес. Нотариальное оформление сделки, расчёт через банковскую ячейку. Полное юридическое сопровождение на всех этапах. При покупке студии для сдачи в аренду, наша управляющая компания возьмёт на себя поиск и заселение арендаторов, заботу о сохранности объекта, хозяйственные затраты. Спешите записаться на показ!',\n",
       " 'added_time': 'сегодня в 21:43',\n",
       " 'floor': 2,\n",
       " 'max_floor': 4,\n",
       " 'house_type': 'кирпичный',\n",
       " 'rooms': 0,\n",
       " 'square': 13.9,\n",
       " 'year_built': 1895,\n",
       " 'link': 'https://www.avito.ru/sankt-peterburg/kvartiry/studiya_13.9_m_24_et._1900026283',\n",
       " 'parsed_at': datetime.datetime(2020, 4, 1, 23, 45, 47, 1211)}"
      ]
     },
     "execution_count": 32,
     "metadata": {},
     "output_type": "execute_result"
    }
   ],
   "source": [
    "get_info(page_url, flat=True)"
   ]
  },
  {
   "cell_type": "markdown",
   "metadata": {},
   "source": [
    "# Протестируем, работает ли функция для парсинга товаров"
   ]
  },
  {
   "cell_type": "code",
   "execution_count": 25,
   "metadata": {},
   "outputs": [
    {
     "data": {
      "text/plain": [
       "{'title': 'Ручная мясорубка',\n",
       " 'price': 800,\n",
       " 'seller_name': 'Артем Рустамов',\n",
       " 'seller_rating': nan,\n",
       " 'seller_review': 0,\n",
       " 'seller_status': 'Частное лицо',\n",
       " 'views': 46,\n",
       " 'address': 'Санкт-Петербург, Планерная ул., 63к1',\n",
       " 'metro': 'Комендантский проспект',\n",
       " 'dist_to_metro': '2,7 км',\n",
       " 'description': 'PORKERT 10',\n",
       " 'added_time': '28 марта в 16:06',\n",
       " 'link': 'https://www.avito.ru/sankt-peterburg/posuda_i_tovary_dlya_kuhni/ruchnaya_myasorubka_1900362626',\n",
       " 'parsed_at': datetime.datetime(2020, 4, 1, 22, 53, 34, 700285)}"
      ]
     },
     "execution_count": 25,
     "metadata": {},
     "output_type": "execute_result"
    }
   ],
   "source": [
    "page_url = 'https://www.avito.ru/sankt-peterburg/posuda_i_tovary_dlya_kuhni/ruchnaya_myasorubka_1900362626'\n",
    "get_info(page_url)"
   ]
  }
 ],
 "metadata": {
  "kernelspec": {
   "display_name": "Python 3",
   "language": "python",
   "name": "python3"
  },
  "language_info": {
   "codemirror_mode": {
    "name": "ipython",
    "version": 3
   },
   "file_extension": ".py",
   "mimetype": "text/x-python",
   "name": "python",
   "nbconvert_exporter": "python",
   "pygments_lexer": "ipython3",
   "version": "3.7.6"
  }
 },
 "nbformat": 4,
 "nbformat_minor": 4
}
